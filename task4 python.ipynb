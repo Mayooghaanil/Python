{
 "cells": [
  {
   "cell_type": "code",
   "execution_count": 1,
   "id": "3a160e91",
   "metadata": {},
   "outputs": [
    {
     "name": "stdout",
     "output_type": "stream",
     "text": [
      "The dictnory is : {'100': 'appu', '101': 'anu', '102': 'sam'}\n"
     ]
    }
   ],
   "source": [
    "dict={'100':'appu','101':'anu','102':'sam'}\n",
    "print(\"The dictnory is :\",dict)"
   ]
  },
  {
   "cell_type": "code",
   "execution_count": 2,
   "id": "96b2f57f",
   "metadata": {},
   "outputs": [
    {
     "name": "stdout",
     "output_type": "stream",
     "text": [
      "{'100': 'appu', '101': 'anu', '102': 'sam'}\n",
      "{'100': 'appu', '101': 'anu', '102': 'sam', 103: 'messi'}\n"
     ]
    }
   ],
   "source": [
    "dict={'100':'appu','101':'anu','102':'sam'}\n",
    "print(dict)\n",
    "dict[103]='messi'\n",
    "print(dict)"
   ]
  },
  {
   "cell_type": "code",
   "execution_count": 3,
   "id": "da16a9f1",
   "metadata": {},
   "outputs": [
    {
     "name": "stdout",
     "output_type": "stream",
     "text": [
      "{'1': 'first', '2': 'second', '101': 'aan', '102': 'sona'}\n"
     ]
    }
   ],
   "source": [
    "dict1={'1':'first','2':'second'}\n",
    "dict2={'101':'aan','102':'sona'}\n",
    "dict3={}\n",
    "for d in(dict1,dict2):\n",
    "    dict3.update(d)\n",
    "print(dict3)"
   ]
  },
  {
   "cell_type": "code",
   "execution_count": 4,
   "id": "230fc869",
   "metadata": {},
   "outputs": [
    {
     "name": "stdout",
     "output_type": "stream",
     "text": [
      "dict_keys([100, 101, 102])\n",
      "check value in dictnory :100\n",
      "value in dictnory\n",
      "value not in the dictory\n",
      "value not in the dictory\n"
     ]
    }
   ],
   "source": [
    "# using loop\n",
    "dict={100:'appu',101:'anu',102:'sam'}\n",
    "key=dict.keys()\n",
    "print(key)\n",
    "val=int(input(\"check value in dictnory :\"))\n",
    "for i in key:\n",
    "    if(val==i):\n",
    "        print(\"value in dictnory\")\n",
    "    else:\n",
    "        print(\"value not in the dictory\")"
   ]
  },
  {
   "cell_type": "code",
   "execution_count": 5,
   "id": "ce1eb6c7",
   "metadata": {},
   "outputs": [
    {
     "name": "stdout",
     "output_type": "stream",
     "text": [
      "('100', 'appu')\n",
      "('101', 'anu')\n",
      "('102', 'sam')\n"
     ]
    }
   ],
   "source": [
    "dt = {'100':'appu','101':'anu','102':'sam'}\n",
    "for d in dt.items():\n",
    "    print(d)"
   ]
  },
  {
   "cell_type": "code",
   "execution_count": 21,
   "id": "b44aa3bb",
   "metadata": {},
   "outputs": [
    {
     "name": "stdout",
     "output_type": "stream",
     "text": [
      "The dictnory is : {100: 'appu', 101: 'anu', 102: 'sam'}\n",
      "check value in dictnory :100\n",
      "value in dictnory\n"
     ]
    }
   ],
   "source": [
    "dict={100:'appu',101:'anu',102:'sam'}\n",
    "print(\"The dictnory is :\",dict)\n",
    "val=int(input(\"check value in dictnory :\"))\n",
    "if val in dict.keys():\n",
    "    print(\"value in dictnory\")\n",
    "else:\n",
    "    print(\"value not in the dictory\")\n"
   ]
  },
  {
   "cell_type": "code",
   "execution_count": null,
   "id": "85028ed9",
   "metadata": {},
   "outputs": [],
   "source": []
  }
 ],
 "metadata": {
  "kernelspec": {
   "display_name": "Python 3",
   "language": "python",
   "name": "python3"
  },
  "language_info": {
   "codemirror_mode": {
    "name": "ipython",
    "version": 3
   },
   "file_extension": ".py",
   "mimetype": "text/x-python",
   "name": "python",
   "nbconvert_exporter": "python",
   "pygments_lexer": "ipython3",
   "version": "3.8.8"
  }
 },
 "nbformat": 4,
 "nbformat_minor": 5
}
