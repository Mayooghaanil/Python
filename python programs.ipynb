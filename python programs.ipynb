{
 "cells": [
  {
   "cell_type": "code",
   "execution_count": 1,
   "id": "06a16a89",
   "metadata": {},
   "outputs": [
    {
     "name": "stdout",
     "output_type": "stream",
     "text": [
      "Enter the limit: 6\n",
      "0\n",
      "1\n",
      "2\n",
      "4\n",
      "8\n",
      "16\n"
     ]
    }
   ],
   "source": [
    "n=int(input(\"Enter the limit: \"))\n",
    "a=0\n",
    "b=1\n",
    "for i in range(n):\n",
    "        print(a)\n",
    "        temp=b\n",
    "        a=temp\n",
    "        b=temp+b"
   ]
  },
  {
   "cell_type": "code",
   "execution_count": 2,
   "id": "50167377",
   "metadata": {},
   "outputs": [
    {
     "name": "stdout",
     "output_type": "stream",
     "text": [
      "* \n",
      "* * \n",
      "* * * \n",
      "* * * * \n",
      "* * * * * \n"
     ]
    }
   ],
   "source": [
    "n=5\n",
    "for i in range(1,n+1):\n",
    "    for j in range(0,i):\n",
    "        print(\"*\",end=' ')\n",
    "    print()\n"
   ]
  },
  {
   "cell_type": "code",
   "execution_count": 3,
   "id": "fe60a327",
   "metadata": {},
   "outputs": [
    {
     "name": "stdout",
     "output_type": "stream",
     "text": [
      "    * \n",
      "   * * \n",
      "  * * * \n",
      " * * * * \n",
      "* * * * * \n"
     ]
    }
   ],
   "source": [
    "num=5\n",
    "for i in range(1,num+1):\n",
    "    print(\" \"*(num-i)+\"* \"*i)"
   ]
  },
  {
   "cell_type": "code",
   "execution_count": 4,
   "id": "fd2bd81a",
   "metadata": {},
   "outputs": [
    {
     "name": "stdout",
     "output_type": "stream",
     "text": [
      "29 is a prime number\n"
     ]
    }
   ],
   "source": [
    "num = 29\n",
    "flag = False\n",
    "if num > 1:\n",
    "    for i in range(2, num):\n",
    "        if (num % i) == 0:\n",
    "            flag = True\n",
    "            break\n",
    "if flag:\n",
    "    print(num, \"is not a prime number\")\n",
    "else:\n",
    "    print(num, \"is a prime number\")\n",
    "\n",
    "\n"
   ]
  },
  {
   "cell_type": "code",
   "execution_count": 5,
   "id": "a87ade3b",
   "metadata": {},
   "outputs": [
    {
     "name": "stdout",
     "output_type": "stream",
     "text": [
      "Enter a number: 5\n",
      "5 is not an Armstrong number\n"
     ]
    }
   ],
   "source": [
    "num = int(input(\"Enter a number: \"))\n",
    "sum=0\n",
    "temp=num\n",
    "while temp > 0:\n",
    "    digit = temp % 10\n",
    "    sum += digit ** 3\n",
    "    temp //= 10\n",
    "if num == sum:\n",
    "    print(num,\"is an Armstrong number\")\n",
    "else:\n",
    "    print(num,\"is not an Armstrong number\")\n"
   ]
  },
  {
   "cell_type": "code",
   "execution_count": 6,
   "id": "a2756448",
   "metadata": {},
   "outputs": [
    {
     "name": "stdout",
     "output_type": "stream",
     "text": [
      "Enter the number: 5\n",
      "Sum of the is: 55\n"
     ]
    }
   ],
   "source": [
    "num=int(input(\"Enter the number: \"))\n",
    "sumSquare = 1\n",
    " \n",
    "for i in range(2,num+ 1) :\n",
    "     \n",
    "   \n",
    "    sumSquare += i ** 2\n",
    "     \n",
    "\n",
    "print(\"Sum of the is:\",sumSquare)\n",
    "    \n",
    "    \n"
   ]
  },
  {
   "cell_type": "code",
   "execution_count": 7,
   "id": "708bfa69",
   "metadata": {},
   "outputs": [
    {
     "data": {
      "text/plain": [
       "'W*e*l*c*o*m*e'"
      ]
     },
     "execution_count": 7,
     "metadata": {},
     "output_type": "execute_result"
    }
   ],
   "source": [
    "str=\"Welcome\"\n",
    "t=\"*\"\n",
    "t.join(str)"
   ]
  },
  {
   "cell_type": "code",
   "execution_count": 8,
   "id": "9971ea45",
   "metadata": {},
   "outputs": [
    {
     "data": {
      "text/plain": [
       "'Enter your fullname'"
      ]
     },
     "execution_count": 8,
     "metadata": {},
     "output_type": "execute_result"
    }
   ],
   "source": [
    "str=\"Enter your name\"\n",
    "str.replace(\"name\",\"fullname\")"
   ]
  },
  {
   "cell_type": "code",
   "execution_count": 9,
   "id": "a1cd9ab2",
   "metadata": {},
   "outputs": [
    {
     "data": {
      "text/plain": [
       "2"
      ]
     },
     "execution_count": 9,
     "metadata": {},
     "output_type": "execute_result"
    }
   ],
   "source": [
    "str=\"hello hello world\"\n",
    "sub=\"hello\"\n",
    "str.count(sub)"
   ]
  },
  {
   "cell_type": "code",
   "execution_count": 10,
   "id": "21875a83",
   "metadata": {},
   "outputs": [
    {
     "data": {
      "text/plain": [
       "'MY NAME IS MAYOOGHA'"
      ]
     },
     "execution_count": 10,
     "metadata": {},
     "output_type": "execute_result"
    }
   ],
   "source": [
    "str=\"my name is mayoogha\"\n",
    "str.upper()"
   ]
  },
  {
   "cell_type": "code",
   "execution_count": 11,
   "id": "83f680ea",
   "metadata": {},
   "outputs": [
    {
     "data": {
      "text/plain": [
       "'my name is mayoogha'"
      ]
     },
     "execution_count": 11,
     "metadata": {},
     "output_type": "execute_result"
    }
   ],
   "source": [
    "str1=\"MY NAME IS MAYOOGHA\"\n",
    "str1.lower()"
   ]
  },
  {
   "cell_type": "code",
   "execution_count": 12,
   "id": "37c11349",
   "metadata": {},
   "outputs": [
    {
     "name": "stdout",
     "output_type": "stream",
     "text": [
      "dlrow olleh\n"
     ]
    }
   ],
   "source": [
    "str=\"hello world\"[::-1]\n",
    "print(str)\n"
   ]
  },
  {
   "cell_type": "code",
   "execution_count": 13,
   "id": "89ecf5e8",
   "metadata": {},
   "outputs": [],
   "source": [
    "# str1=\"hello worls\"\n",
    "# str2=str1[0]\n",
    "# str1.index(str2)"
   ]
  },
  {
   "cell_type": "code",
   "execution_count": 15,
   "id": "ca627aa7",
   "metadata": {},
   "outputs": [
    {
     "name": "stdout",
     "output_type": "stream",
     "text": [
      "Enter the string : mayoogha\n",
      "ahgooyam\n"
     ]
    }
   ],
   "source": [
    "str=input(\"Enter the string : \")[::-1]\n",
    "print(str)"
   ]
  },
  {
   "cell_type": "code",
   "execution_count": 27,
   "id": "c983b106",
   "metadata": {},
   "outputs": [
    {
     "name": "stdout",
     "output_type": "stream",
     "text": [
      "first Character is : M\n",
      "first Character is : o\n",
      "first Character is : r\n"
     ]
    }
   ],
   "source": [
    "str = \"Movie Theater\"\n",
    "\n",
    "ch1= str[:1]\n",
    "ch2= str[1:2]\n",
    "ch3= str[12:13]\n",
    "print (\"first Character is :\",ch1)\n",
    "print (\"first Character is :\",ch2)\n",
    "print (\"first Character is :\",ch3)"
   ]
  },
  {
   "cell_type": "code",
   "execution_count": 32,
   "id": "d7013a33",
   "metadata": {},
   "outputs": [
    {
     "name": "stdout",
     "output_type": "stream",
     "text": [
      "first string:  M\n",
      "first string:  o\n",
      "first string:  r\n"
     ]
    }
   ],
   "source": [
    "str2 = \"Movie Theater\"\n",
    "ch=str2[0]\n",
    "ch1=str2[1]\n",
    "ch2=str2[-1]\n",
    "print(\"first string: \",ch)\n",
    "print(\"first string: \",ch1)\n",
    "print(\"first string: \",ch2)"
   ]
  },
  {
   "cell_type": "code",
   "execution_count": 77,
   "id": "afb82b4c",
   "metadata": {},
   "outputs": [
    {
     "name": "stdout",
     "output_type": "stream",
     "text": [
      "number of vowel :  2\n"
     ]
    }
   ],
   "source": [
    "str=\"ammu\"\n",
    "vowels=\"aeiou\"\n",
    "vcount=0\n",
    "for c in str:\n",
    "    if c in vowels:\n",
    "        vcount+=1\n",
    "        \n",
    "print(\"number of vowel : \",vcount)\n",
    "      \n",
    "        \n",
    "    "
   ]
  },
  {
   "cell_type": "code",
   "execution_count": 71,
   "id": "2b5b8777",
   "metadata": {},
   "outputs": [
    {
     "name": "stdout",
     "output_type": "stream",
     "text": [
      "what is your name\n"
     ]
    }
   ],
   "source": [
    "x = \"what is your \"\n",
    "y = \"name\"\n",
    "z = x + y\n",
    "print(z)\n"
   ]
  },
  {
   "cell_type": "code",
   "execution_count": 62,
   "id": "885af111",
   "metadata": {},
   "outputs": [
    {
     "data": {
      "text/plain": [
       "9"
      ]
     },
     "execution_count": 62,
     "metadata": {},
     "output_type": "execute_result"
    }
   ],
   "source": [
    "str1=\"position of the string\"\n",
    "str2=\"of\"\n",
    "str1.index(str2)"
   ]
  },
  {
   "cell_type": "code",
   "execution_count": 84,
   "id": "923a8cab",
   "metadata": {},
   "outputs": [
    {
     "name": "stdout",
     "output_type": "stream",
     "text": [
      "ammu\n",
      "Most frequent character:  m\n"
     ]
    }
   ],
   "source": [
    "string= \"ammu\"\n",
    "print(string)\n",
    "\n",
    "freq={}\n",
    "\n",
    "for i in string:\n",
    "    if i in freq:\n",
    "        freq[i]=freq[i]+1\n",
    "    else:\n",
    "        freq[i] = 1\n",
    "result= max(freq, key = freq.get)\n",
    "\n",
    "print(\"Most frequent character: \",result)\n"
   ]
  },
  {
   "cell_type": "code",
   "execution_count": null,
   "id": "d04c47df",
   "metadata": {},
   "outputs": [],
   "source": []
  }
 ],
 "metadata": {
  "kernelspec": {
   "display_name": "Python 3",
   "language": "python",
   "name": "python3"
  },
  "language_info": {
   "codemirror_mode": {
    "name": "ipython",
    "version": 3
   },
   "file_extension": ".py",
   "mimetype": "text/x-python",
   "name": "python",
   "nbconvert_exporter": "python",
   "pygments_lexer": "ipython3",
   "version": "3.8.8"
  }
 },
 "nbformat": 4,
 "nbformat_minor": 5
}
