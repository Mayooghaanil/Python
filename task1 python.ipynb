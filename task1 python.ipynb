{
 "cells": [
  {
   "cell_type": "code",
   "execution_count": 1,
   "id": "226b41b6",
   "metadata": {},
   "outputs": [
    {
     "name": "stdout",
     "output_type": "stream",
     "text": [
      "Items are :  [10, 15, 20]\n",
      "sum is :  45\n"
     ]
    }
   ],
   "source": [
    "# sum of items in a list\n",
    "a=[10,15,20]\n",
    "print(\"Items are : \",a)\n",
    "x=sum(a)\n",
    "print(\"sum is : \",x)"
   ]
  },
  {
   "cell_type": "code",
   "execution_count": 2,
   "id": "0e710e74",
   "metadata": {},
   "outputs": [
    {
     "name": "stdout",
     "output_type": "stream",
     "text": [
      "The smallest number is :  5\n",
      "The largest number is :  20\n"
     ]
    }
   ],
   "source": [
    "# fin largest and smallest number in a list\n",
    "list1=[5,20,10,12]\n",
    "a=min(list1)\n",
    "print(\"The smallest number is : \",a)\n",
    "b=max(list1)\n",
    "print(\"The largest number is : \",b)"
   ]
  },
  {
   "cell_type": "code",
   "execution_count": 3,
   "id": "386d2015",
   "metadata": {},
   "outputs": [
    {
     "name": "stdout",
     "output_type": "stream",
     "text": [
      "All elements in a list :  ['red', 'green', 'white', 'black', 'pink', 'yellow']\n",
      "Updated list is :  ['green', 'white', 'black']\n"
     ]
    }
   ],
   "source": [
    "# remove 3 items in a list\n",
    "list1=['red','green','white','black','pink','yellow']\n",
    "print(\"All elements in a list : \",list1)\n",
    "del list1[0]\n",
    "del list1[4]\n",
    "del list1[3]\n",
    "print(\"Updated list is : \",list1)"
   ]
  },
  {
   "cell_type": "code",
   "execution_count": 4,
   "id": "3bf66ffa",
   "metadata": {},
   "outputs": [
    {
     "name": "stdout",
     "output_type": "stream",
     "text": [
      "The list is empty\n"
     ]
    }
   ],
   "source": [
    "# check the list is empty or not\n",
    "list=[]\n",
    "if len(list)==0:\n",
    "    print(\"The list is empty\")\n",
    "else:\n",
    "    print(\"The list is not empty\")"
   ]
  },
  {
   "cell_type": "code",
   "execution_count": 5,
   "id": "a257efe8",
   "metadata": {},
   "outputs": [
    {
     "name": "stdout",
     "output_type": "stream",
     "text": [
      "In ascending order\n"
     ]
    }
   ],
   "source": [
    "# check list is ascenting or not\n",
    "a=[1,2,3,4,15]\n",
    "if (a == sorted(a,reverse=False)):\n",
    "    print(\"In ascending order\")\n",
    "else:\n",
    "    print(\"In decending order\")"
   ]
  },
  {
   "cell_type": "code",
   "execution_count": 6,
   "id": "63850542",
   "metadata": {},
   "outputs": [
    {
     "name": "stdout",
     "output_type": "stream",
     "text": [
      "odd number\n",
      "odd number\n",
      "even number\n",
      "even number\n",
      "odd number\n",
      "even number\n",
      "odd number\n"
     ]
    }
   ],
   "source": [
    "# print even number from a list\n",
    "list=[1,23,10,12,9,10,3]\n",
    "for i in list:\n",
    "    if(i%2==0):\n",
    "        print(\"even number\")\n",
    "    else:\n",
    "        print(\"odd number\")"
   ]
  },
  {
   "cell_type": "code",
   "execution_count": 7,
   "id": "be4a1494",
   "metadata": {},
   "outputs": [
    {
     "name": "stdout",
     "output_type": "stream",
     "text": [
      "The orginal list is : ['appu', 'ammu', 'achu', 'alan', 'neha']\n",
      "Updated list is : ['neha', 'ammu', 'achu', 'alan', 'appu']\n"
     ]
    }
   ],
   "source": [
    "# interchange first and last elememt in a set\n",
    "list=[\"appu\",\"ammu\",\"achu\",\"alan\",\"neha\"]\n",
    "print(\"The orginal list is :\",list)\n",
    "length=len(list)\n",
    "temp=list[0]\n",
    "list[0]=list[-1]\n",
    "list[-1]=temp\n",
    "print(\"Updated list is :\",list)"
   ]
  },
  {
   "cell_type": "code",
   "execution_count": 8,
   "id": "113f7894",
   "metadata": {},
   "outputs": [
    {
     "name": "stdout",
     "output_type": "stream",
     "text": [
      "Old list is : ['apple', 'mango', 'orange']\n",
      "mew list is : ['apple', 'mango', 'orange']\n"
     ]
    }
   ],
   "source": [
    "# program to copy a list\n",
    "old_list=[\"apple\",\"mango\",\"orange\"]\n",
    "print(\"Old list is :\",old_list)\n",
    "new_list=old_list.copy()\n",
    "print(\"mew list is :\",new_list)"
   ]
  },
  {
   "cell_type": "code",
   "execution_count": 9,
   "id": "8c1e6dfb",
   "metadata": {},
   "outputs": [
    {
     "name": "stdout",
     "output_type": "stream",
     "text": [
      "first list is : ['red', 'green', 'yellow', 'white']\n",
      "The updated list is : ['red', 'green', 'yellow', 'white', 'black', 'rose']\n"
     ]
    }
   ],
   "source": [
    "# append a list to the second list\n",
    "first_list=[\"red\",\"green\",\"yellow\",\"white\"]\n",
    "print(\"first list is :\",first_list)\n",
    "first_list.extend([\"black\",\"rose\"])\n",
    "print(\"The updated list is :\",first_list)"
   ]
  },
  {
   "cell_type": "code",
   "execution_count": 10,
   "id": "a1554875",
   "metadata": {},
   "outputs": [
    {
     "name": "stdout",
     "output_type": "stream",
     "text": [
      "400\n"
     ]
    }
   ],
   "source": [
    "# To multiply all the items in a list\n",
    "list=[2,4,10,5]\n",
    "product=1\n",
    "for i in list:\n",
    "    product=product*i\n",
    "print(product)"
   ]
  },
  {
   "cell_type": "code",
   "execution_count": 11,
   "id": "e1a3913a",
   "metadata": {},
   "outputs": [
    {
     "name": "stdout",
     "output_type": "stream",
     "text": [
      "The largest number is :  1000\n"
     ]
    }
   ],
   "source": [
    "# find largest number in a set\n",
    "salary=[500,200,1000,120]\n",
    "maximum=max(salary)\n",
    "print(\"The largest number is : \",maximum)"
   ]
  },
  {
   "cell_type": "code",
   "execution_count": 12,
   "id": "cf5babc2",
   "metadata": {},
   "outputs": [
    {
     "name": "stdout",
     "output_type": "stream",
     "text": [
      "Enter the limit : 2\n",
      "enter the elements : 1\n",
      "enter the elements : 2\n",
      "List in ascendig order\n"
     ]
    }
   ],
   "source": [
    "list1=[]\n",
    "num=int(input(\"Enter the limit : \"))\n",
    "for i in range(0,num):\n",
    "    ele=int(input(\"enter the elements : \"))\n",
    "    list1.append(ele)\n",
    "temp_list=list1[:]\n",
    "list1.sort()\n",
    "if temp_list==list1:\n",
    "    print(\"List in ascendig order\")\n",
    "else:\n",
    "    print(\"List in decending order\")"
   ]
  },
  {
   "cell_type": "code",
   "execution_count": null,
   "id": "95a8e428",
   "metadata": {},
   "outputs": [],
   "source": [
    "list1=[]\n",
    "lim=int(input(\"Enter the limit :\"))\n",
    "print(\"Enter the elements\")\n",
    "for i in range(0,lim):\n",
    "    num=int(input(\" \"))\n",
    "    list1.append(num)\n",
    "    a=sum(list1)\n",
    "print(a)"
   ]
  },
  {
   "cell_type": "markdown",
   "id": "cac02bd0",
   "metadata": {},
   "source": []
  },
  {
   "cell_type": "code",
   "execution_count": 2,
   "id": "e2dcf225",
   "metadata": {},
   "outputs": [
    {
     "name": "stdout",
     "output_type": "stream",
     "text": [
      "Enter the limit :2\n",
      "Enter the elements\n",
      " 1\n",
      " 2\n",
      "[1, 2]\n",
      "the sum of list items are 3\n"
     ]
    }
   ],
   "source": [
    "list1=[]\n",
    "sum=0\n",
    "lim=int(input(\"Enter the limit :\"))\n",
    "print(\"Enter the elements\")\n",
    "for i in range(0,lim):\n",
    "    num=int(input(\" \"))\n",
    "    list1.append(num)\n",
    "    sum=sum+num\n",
    "print(list1)\n",
    "print(\"the sum of list items are\",sum)"
   ]
  },
  {
   "cell_type": "code",
   "execution_count": null,
   "id": "8119d8a6",
   "metadata": {},
   "outputs": [],
   "source": []
  }
 ],
 "metadata": {
  "kernelspec": {
   "display_name": "Python 3",
   "language": "python",
   "name": "python3"
  },
  "language_info": {
   "codemirror_mode": {
    "name": "ipython",
    "version": 3
   },
   "file_extension": ".py",
   "mimetype": "text/x-python",
   "name": "python",
   "nbconvert_exporter": "python",
   "pygments_lexer": "ipython3",
   "version": "3.8.8"
  }
 },
 "nbformat": 4,
 "nbformat_minor": 5
}
