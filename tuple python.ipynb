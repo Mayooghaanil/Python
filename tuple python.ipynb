{
 "cells": [
  {
   "cell_type": "code",
   "execution_count": 1,
   "id": "5910e291",
   "metadata": {},
   "outputs": [
    {
     "name": "stdout",
     "output_type": "stream",
     "text": [
      "()\n"
     ]
    }
   ],
   "source": [
    "# empty tuple\n",
    "t=tuple()\n",
    "print(t)"
   ]
  },
  {
   "cell_type": "code",
   "execution_count": 2,
   "id": "da6a6f85",
   "metadata": {},
   "outputs": [
    {
     "name": "stdout",
     "output_type": "stream",
     "text": [
      "20\n",
      "(5,)\n",
      "(100,)\n"
     ]
    }
   ],
   "source": [
    "t=(20)\n",
    "print(t)\n",
    "t1=5,\n",
    "print(t1)\n",
    "t2=(100,)\n",
    "print(t2)"
   ]
  },
  {
   "cell_type": "code",
   "execution_count": 3,
   "id": "52394b82",
   "metadata": {},
   "outputs": [
    {
     "data": {
      "text/plain": [
       "50"
      ]
     },
     "execution_count": 3,
     "metadata": {},
     "output_type": "execute_result"
    }
   ],
   "source": [
    "# nested tuple\n",
    "t=(10,20,30,(40,50,60),100)\n",
    "# length of tuple\n",
    "len(t)\n",
    "# first position item in tuple\n",
    "t[1]\n",
    "# find first tuple in tuple in a tuple\n",
    "t[3][1]"
   ]
  },
  {
   "cell_type": "code",
   "execution_count": 4,
   "id": "a47a7d52",
   "metadata": {},
   "outputs": [
    {
     "name": "stdout",
     "output_type": "stream",
     "text": [
      "('p', 'y', 't', 'h', 'o', 'n')\n",
      "('2', '0', '2', '1')\n"
     ]
    }
   ],
   "source": [
    "t=tuple(\"python\")\n",
    "print(t)\n",
    "t1=tuple(\"2021\")\n",
    "print(t1)"
   ]
  },
  {
   "cell_type": "code",
   "execution_count": 5,
   "id": "77ad1a60",
   "metadata": {},
   "outputs": [
    {
     "name": "stdout",
     "output_type": "stream",
     "text": [
      "(10, 20, 30)\n"
     ]
    }
   ],
   "source": [
    "item=[10,20,30]\n",
    "t=tuple(item)\n",
    "print(t)"
   ]
  },
  {
   "cell_type": "code",
   "execution_count": 6,
   "id": "8d90462b",
   "metadata": {},
   "outputs": [
    {
     "name": "stdout",
     "output_type": "stream",
     "text": [
      "Enter the element :ui\n",
      "('u', 'i')\n"
     ]
    }
   ],
   "source": [
    "t1=tuple(input(\"Enter the element :\"))\n",
    "print(t1)"
   ]
  },
  {
   "cell_type": "code",
   "execution_count": 7,
   "id": "e0d9b4cc",
   "metadata": {},
   "outputs": [
    {
     "name": "stdout",
     "output_type": "stream",
     "text": [
      "Enter tuple element : iiii\n"
     ]
    },
    {
     "ename": "NameError",
     "evalue": "name 'iiii' is not defined",
     "output_type": "error",
     "traceback": [
      "\u001b[1;31m---------------------------------------------------------------------------\u001b[0m",
      "\u001b[1;31mNameError\u001b[0m                                 Traceback (most recent call last)",
      "\u001b[1;32m<ipython-input-7-95a3980f51ee>\u001b[0m in \u001b[0;36m<module>\u001b[1;34m\u001b[0m\n\u001b[1;32m----> 1\u001b[1;33m \u001b[0mmytuple\u001b[0m\u001b[1;33m=\u001b[0m\u001b[0meval\u001b[0m\u001b[1;33m(\u001b[0m\u001b[0minput\u001b[0m\u001b[1;33m(\u001b[0m\u001b[1;34m\"Enter tuple element : \"\u001b[0m\u001b[1;33m)\u001b[0m\u001b[1;33m)\u001b[0m\u001b[1;33m\u001b[0m\u001b[1;33m\u001b[0m\u001b[0m\n\u001b[0m\u001b[0;32m      2\u001b[0m \u001b[0mprint\u001b[0m\u001b[1;33m(\u001b[0m\u001b[0mmytuple\u001b[0m\u001b[1;33m)\u001b[0m\u001b[1;33m\u001b[0m\u001b[1;33m\u001b[0m\u001b[0m\n",
      "\u001b[1;32m<string>\u001b[0m in \u001b[0;36m<module>\u001b[1;34m\u001b[0m\n",
      "\u001b[1;31mNameError\u001b[0m: name 'iiii' is not defined"
     ]
    }
   ],
   "source": [
    "mytuple=eval(input(\"Enter tuple element : \"))\n",
    "print(mytuple)"
   ]
  },
  {
   "cell_type": "code",
   "execution_count": null,
   "id": "f8125343",
   "metadata": {},
   "outputs": [],
   "source": [
    "fruits=(\"apple\",\"mango\",\"orange\",\"banana\")\n",
    "print(fruits)\n",
    "a=fruits[0]\n",
    "print(\"First element is :\",a)\n",
    "c=fruits[2]\n",
    "print(\"Third element is :\",c)\n",
    "b=fruits[-1]\n",
    "print(\"Last element is :\",b)"
   ]
  },
  {
   "cell_type": "code",
   "execution_count": null,
   "id": "904b6ac4",
   "metadata": {},
   "outputs": [],
   "source": [
    "# list is mutable it can change tuple is immutable it canot change items\n",
    "l1=[10,20,30,40]\n",
    "t1=(100,200,300,400)\n",
    "l1[1]=200\n",
    "print(l1)\n",
    "t1[1]=300"
   ]
  },
  {
   "cell_type": "code",
   "execution_count": 1,
   "id": "6586b924",
   "metadata": {},
   "outputs": [
    {
     "name": "stdout",
     "output_type": "stream",
     "text": [
      "mca\n",
      "msc\n",
      "ma\n",
      "m.com\n",
      "mba\n"
     ]
    }
   ],
   "source": [
    "# traversing tuple\n",
    "qualification=(\"mca\",\"msc\",\"ma\",\"m.com\",\"mba\")\n",
    "for q in qualification:\n",
    "    print(q)"
   ]
  },
  {
   "cell_type": "code",
   "execution_count": null,
   "id": "76604db8",
   "metadata": {},
   "outputs": [],
   "source": [
    "# joining tuple\n",
    "t1=(10,20,30)\n",
    "t2=('a','b','c')\n",
    "t3=t1+t2\n",
    "print(t3)\n",
    "# 20 is not tuple \n",
    "t1+20\n",
    "# (20) is not tuple\n",
    "t1+(20)"
   ]
  },
  {
   "cell_type": "code",
   "execution_count": null,
   "id": "1b6afe7e",
   "metadata": {},
   "outputs": [],
   "source": [
    "t1=(10,20,30)\n",
    "t1+(100,)"
   ]
  },
  {
   "cell_type": "code",
   "execution_count": null,
   "id": "bfb5978c",
   "metadata": {},
   "outputs": [],
   "source": [
    "t2=(\"hii\",\"hello\")\n",
    "t2*3"
   ]
  },
  {
   "cell_type": "code",
   "execution_count": null,
   "id": "58e5f729",
   "metadata": {},
   "outputs": [],
   "source": [
    "data=(10,20,30,1,7,9,100,51,75,80)\n",
    "data[4:-4]\n",
    "data[1:6]\n",
    "data[4:-2]\n",
    "data[::-1]\n",
    "data[::-2]\n",
    "data[2:9:2]"
   ]
  },
  {
   "cell_type": "code",
   "execution_count": null,
   "id": "8caed5fc",
   "metadata": {},
   "outputs": [],
   "source": [
    "# slicing tuple\n",
    "tp=(11,12,15,20,8,9,10)\n",
    "a=tp[::2]\n",
    "print(a)\n",
    "b=tp[5::3]\n",
    "print(b)\n",
    "tp[2:5]*3\n",
    "tp[2:5]*3+(500,100)"
   ]
  },
  {
   "cell_type": "code",
   "execution_count": null,
   "id": "dc4ed679",
   "metadata": {},
   "outputs": [],
   "source": [
    "# comparing tuple\n",
    "a=(10,20)\n",
    "b=(10,20)\n",
    "c=(20,10)\n",
    "a==b\n",
    "a==c\n",
    "d=(20.0,10.0)\n",
    "c==d\n",
    "a<c"
   ]
  },
  {
   "cell_type": "code",
   "execution_count": null,
   "id": "858271b0",
   "metadata": {},
   "outputs": [],
   "source": [
    "t=(10,20,30)\n",
    "print(t)\n",
    "# del t[1]\n",
    "del t\n",
    "print(t)"
   ]
  },
  {
   "cell_type": "code",
   "execution_count": null,
   "id": "74da8369",
   "metadata": {},
   "outputs": [],
   "source": [
    "book=(\"hii\",90,\"welcome hii\",\"kooi\")\n",
    "len(book)"
   ]
  },
  {
   "cell_type": "code",
   "execution_count": null,
   "id": "d66194f6",
   "metadata": {},
   "outputs": [],
   "source": [
    "salary=(1000,1500,500,2000,100)\n",
    "max(salary)"
   ]
  },
  {
   "cell_type": "code",
   "execution_count": null,
   "id": "7d7957c4",
   "metadata": {},
   "outputs": [],
   "source": [
    "fruits=(\"apple\",\"green apple\",\"orange\",\"mango\",\"zaam\")\n",
    "max(fruits)"
   ]
  },
  {
   "cell_type": "code",
   "execution_count": null,
   "id": "14a42095",
   "metadata": {},
   "outputs": [],
   "source": [
    "t1=(10,20,30,(40,50),90)\n",
    "max(t1)"
   ]
  },
  {
   "cell_type": "code",
   "execution_count": null,
   "id": "4fbdcc7d",
   "metadata": {},
   "outputs": [],
   "source": [
    "salary=(1000,1500,500,2000,100)\n",
    "min(salary)"
   ]
  },
  {
   "cell_type": "code",
   "execution_count": null,
   "id": "f3134219",
   "metadata": {},
   "outputs": [],
   "source": [
    "fruits=(\"apple green\",\"apple\",\"orange\",\"mango\",\"ba\")\n",
    "min(fruits)"
   ]
  },
  {
   "cell_type": "code",
   "execution_count": null,
   "id": "4ed58128",
   "metadata": {},
   "outputs": [],
   "source": [
    "t1=(10,20,30,(40,50),90)\n",
    "min(t1)"
   ]
  },
  {
   "cell_type": "code",
   "execution_count": null,
   "id": "8df6cd7f",
   "metadata": {},
   "outputs": [],
   "source": [
    "salary=(1000,1500,500,2000,100)\n",
    "salary.index(500)"
   ]
  },
  {
   "cell_type": "code",
   "execution_count": null,
   "id": "0d5d5e5c",
   "metadata": {},
   "outputs": [],
   "source": [
    "val=(10,20,59,20,95,20,10)\n",
    "val.count(20)"
   ]
  },
  {
   "cell_type": "code",
   "execution_count": null,
   "id": "ff9f1d76",
   "metadata": {},
   "outputs": [],
   "source": [
    "val.count(59)"
   ]
  },
  {
   "cell_type": "code",
   "execution_count": null,
   "id": "e547eabf",
   "metadata": {},
   "outputs": [],
   "source": [
    "val.count(1)"
   ]
  },
  {
   "cell_type": "code",
   "execution_count": 8,
   "id": "c5b1d68d",
   "metadata": {},
   "outputs": [
    {
     "name": "stdout",
     "output_type": "stream",
     "text": [
      "()\n"
     ]
    }
   ],
   "source": [
    "tup=tuple()\n",
    "print(tup)"
   ]
  },
  {
   "cell_type": "code",
   "execution_count": 10,
   "id": "cb423593",
   "metadata": {},
   "outputs": [
    {
     "name": "stdout",
     "output_type": "stream",
     "text": [
      "('w', 'e', 'l', 'c', 'o', 'm', ' ', 'a', 'l', 'l')\n"
     ]
    }
   ],
   "source": [
    "# creating tuple from string\n",
    "tup=tuple(\"welcom all\")\n",
    "print(tup)"
   ]
  },
  {
   "cell_type": "code",
   "execution_count": 12,
   "id": "4821336a",
   "metadata": {},
   "outputs": [
    {
     "name": "stdout",
     "output_type": "stream",
     "text": [
      "(20, 30, 40)\n"
     ]
    }
   ],
   "source": [
    "# creating tuple from a list\n",
    "tup=tuple([20,30,40])\n",
    "print(tup)"
   ]
  },
  {
   "cell_type": "code",
   "execution_count": 13,
   "id": "9cb8c16c",
   "metadata": {},
   "outputs": [
    {
     "name": "stdout",
     "output_type": "stream",
     "text": [
      "(1, 2)\n"
     ]
    }
   ],
   "source": [
    "tup=tuple({1:\"first\",2:\"second\"})\n",
    "print(tup)"
   ]
  },
  {
   "cell_type": "code",
   "execution_count": 14,
   "id": "074a73b5",
   "metadata": {},
   "outputs": [
    {
     "ename": "TypeError",
     "evalue": "'int' object is not iterable",
     "output_type": "error",
     "traceback": [
      "\u001b[1;31m---------------------------------------------------------------------------\u001b[0m",
      "\u001b[1;31mTypeError\u001b[0m                                 Traceback (most recent call last)",
      "\u001b[1;32m<ipython-input-14-0323c84451cf>\u001b[0m in \u001b[0;36m<module>\u001b[1;34m\u001b[0m\n\u001b[1;32m----> 1\u001b[1;33m \u001b[0mt\u001b[0m\u001b[1;33m=\u001b[0m\u001b[0mtuple\u001b[0m\u001b[1;33m(\u001b[0m\u001b[1;36m10\u001b[0m\u001b[1;33m)\u001b[0m\u001b[1;33m\u001b[0m\u001b[1;33m\u001b[0m\u001b[0m\n\u001b[0m\u001b[0;32m      2\u001b[0m \u001b[0mprint\u001b[0m\u001b[1;33m(\u001b[0m\u001b[0mt\u001b[0m\u001b[1;33m)\u001b[0m\u001b[1;33m\u001b[0m\u001b[1;33m\u001b[0m\u001b[0m\n",
      "\u001b[1;31mTypeError\u001b[0m: 'int' object is not iterable"
     ]
    }
   ],
   "source": [
    "t=tuple(10)\n",
    "print(t)"
   ]
  },
  {
   "cell_type": "code",
   "execution_count": 20,
   "id": "7316e319",
   "metadata": {},
   "outputs": [
    {
     "name": "stdout",
     "output_type": "stream",
     "text": [
      "(10, 100, 30)\n"
     ]
    }
   ],
   "source": [
    "# modifing tuple using tuple unpacking\n",
    "val=(10,20,30)\n",
    "a,b,c=val\n",
    "# print(a,b,c)\n",
    "b=100\n",
    "val=(a,b,c)\n",
    "print(val)"
   ]
  },
  {
   "cell_type": "code",
   "execution_count": 22,
   "id": "528e7344",
   "metadata": {},
   "outputs": [
    {
     "name": "stdout",
     "output_type": "stream",
     "text": [
      "('mohanlal', 'mamooty', 'dq', 'nivin', 'tovino')\n",
      "('mohanlal', 'mamooty', 'dq', 'nivin', 'kamalahasan')\n"
     ]
    }
   ],
   "source": [
    "actors=(\"mohanlal\",\"mamooty\",\"dq\",\"nivin\",\"tovino\")\n",
    "print(actors)\n",
    "myactor=list(actors)\n",
    "myactor[-1]=\"kamalahasan\"\n",
    "actors=tuple(myactor)\n",
    "print(actors)"
   ]
  },
  {
   "cell_type": "code",
   "execution_count": null,
   "id": "d20966b4",
   "metadata": {},
   "outputs": [],
   "source": []
  }
 ],
 "metadata": {
  "kernelspec": {
   "display_name": "Python 3",
   "language": "python",
   "name": "python3"
  },
  "language_info": {
   "codemirror_mode": {
    "name": "ipython",
    "version": 3
   },
   "file_extension": ".py",
   "mimetype": "text/x-python",
   "name": "python",
   "nbconvert_exporter": "python",
   "pygments_lexer": "ipython3",
   "version": "3.8.8"
  }
 },
 "nbformat": 4,
 "nbformat_minor": 5
}
