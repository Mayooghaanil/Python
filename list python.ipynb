{
 "cells": [
  {
   "cell_type": "code",
   "execution_count": 3,
   "id": "58d4bea2",
   "metadata": {},
   "outputs": [],
   "source": [
    "# empty list\n",
    "my_list=[]\n",
    "# list of integers\n",
    "my_list=[1,2,3]\n",
    "# list with mixed data\n",
    "my_list=[1,\"hello\",1.9]"
   ]
  },
  {
   "cell_type": "code",
   "execution_count": 9,
   "id": "7f98d31d",
   "metadata": {},
   "outputs": [
    {
     "name": "stdout",
     "output_type": "stream",
     "text": [
      "['welcome', 4, [2, 4, 5]]\n"
     ]
    }
   ],
   "source": [
    "# nested list\n",
    "my_list=['welcome',4,[2,4,5]]\n",
    "print(my_list)"
   ]
  },
  {
   "cell_type": "code",
   "execution_count": 10,
   "id": "2ae590a1",
   "metadata": {},
   "outputs": [],
   "source": [
    "# empty list using list constructor\n",
    "my_list=list()"
   ]
  },
  {
   "cell_type": "code",
   "execution_count": 11,
   "id": "1a1c89e0",
   "metadata": {},
   "outputs": [],
   "source": [
    "# list of integers using integers\n",
    "my_list=list([1,2,3])"
   ]
  },
  {
   "cell_type": "code",
   "execution_count": 17,
   "id": "629392d0",
   "metadata": {},
   "outputs": [
    {
     "name": "stdout",
     "output_type": "stream",
     "text": [
      "c\n",
      "e\n"
     ]
    }
   ],
   "source": [
    "list=['a','b','c','d','e']\n",
    "print(list[2])\n",
    "print(list[-1])"
   ]
  },
  {
   "cell_type": "code",
   "execution_count": 21,
   "id": "0fce6aac",
   "metadata": {},
   "outputs": [
    {
     "name": "stdout",
     "output_type": "stream",
     "text": [
      "sonu\n",
      "anu\n"
     ]
    }
   ],
   "source": [
    "my_list=['anu','annu','appu','sonu']\n",
    "print(my_list[-1])\n",
    "print(my_list[-4])"
   ]
  },
  {
   "cell_type": "code",
   "execution_count": 24,
   "id": "e8f6f806",
   "metadata": {},
   "outputs": [
    {
     "name": "stdout",
     "output_type": "stream",
     "text": [
      "[10, 20, 30]\n",
      "[10, 100, 30]\n"
     ]
    }
   ],
   "source": [
    "# change element\n",
    "marks=[10,20,30]\n",
    "print(marks)\n",
    "marks[1]=100\n",
    "print(marks)"
   ]
  },
  {
   "cell_type": "code",
   "execution_count": 33,
   "id": "9181f3ae",
   "metadata": {},
   "outputs": [
    {
     "name": "stdout",
     "output_type": "stream",
     "text": [
      "[10, 100, 30, 50, 50, 50, 50, 50, 50, 50]\n"
     ]
    }
   ],
   "source": [
    "#add element\n",
    "marks.append(50)\n",
    "print(marks)"
   ]
  },
  {
   "cell_type": "code",
   "execution_count": 36,
   "id": "6dc3484d",
   "metadata": {},
   "outputs": [
    {
     "name": "stdout",
     "output_type": "stream",
     "text": [
      "[10, 20, 30, 10, 50, 60]\n"
     ]
    }
   ],
   "source": [
    "marks=[10,20,30]\n",
    "marks.extend([10,50,60])\n",
    "print(marks)"
   ]
  },
  {
   "cell_type": "code",
   "execution_count": 41,
   "id": "f46338e7",
   "metadata": {},
   "outputs": [
    {
     "name": "stdout",
     "output_type": "stream",
     "text": [
      "[10, 20, 500, 500, 500, 30, 10, 50, 60]\n"
     ]
    }
   ],
   "source": [
    "marks.insert(2,500)\n",
    "print(marks)"
   ]
  },
  {
   "cell_type": "code",
   "execution_count": 1,
   "id": "28963c51",
   "metadata": {},
   "outputs": [
    {
     "name": "stdout",
     "output_type": "stream",
     "text": [
      "[10, 20, 30, 50, 60, 70]\n",
      "[10, 20, 50, 60, 70]\n"
     ]
    },
    {
     "ename": "NameError",
     "evalue": "name 'marks' is not defined",
     "output_type": "error",
     "traceback": [
      "\u001b[1;31m---------------------------------------------------------------------------\u001b[0m",
      "\u001b[1;31mNameError\u001b[0m                                 Traceback (most recent call last)",
      "\u001b[1;32m<ipython-input-1-f6aa3fc7cc73>\u001b[0m in \u001b[0;36m<module>\u001b[1;34m\u001b[0m\n\u001b[0;32m      5\u001b[0m \u001b[0mprint\u001b[0m\u001b[1;33m(\u001b[0m\u001b[0mmarks\u001b[0m\u001b[1;33m)\u001b[0m\u001b[1;33m\u001b[0m\u001b[1;33m\u001b[0m\u001b[0m\n\u001b[0;32m      6\u001b[0m \u001b[1;32mdel\u001b[0m \u001b[0mmarks\u001b[0m\u001b[1;33m\u001b[0m\u001b[1;33m\u001b[0m\u001b[0m\n\u001b[1;32m----> 7\u001b[1;33m \u001b[0mprint\u001b[0m\u001b[1;33m(\u001b[0m\u001b[0mmarks\u001b[0m\u001b[1;33m)\u001b[0m\u001b[1;33m\u001b[0m\u001b[1;33m\u001b[0m\u001b[0m\n\u001b[0m",
      "\u001b[1;31mNameError\u001b[0m: name 'marks' is not defined"
     ]
    }
   ],
   "source": [
    "#delet method\n",
    "marks=[10,20,30,50,60,70]\n",
    "print(marks)\n",
    "del marks[2]\n",
    "print(marks)\n",
    "del marks\n",
    "print(marks)"
   ]
  },
  {
   "cell_type": "code",
   "execution_count": 44,
   "id": "35794dbc",
   "metadata": {},
   "outputs": [
    {
     "name": "stdout",
     "output_type": "stream",
     "text": [
      "[]\n"
     ]
    }
   ],
   "source": [
    "#clear method\n",
    "marks=[10,20,30,50,60,70]\n",
    "marks.clear()\n",
    "print(marks)"
   ]
  },
  {
   "cell_type": "code",
   "execution_count": 59,
   "id": "37a4c40e",
   "metadata": {},
   "outputs": [
    {
     "name": "stdout",
     "output_type": "stream",
     "text": [
      "[90, 80, 60, 20, 30, 80, 80]\n",
      "[90, 60, 20, 30, 80, 80]\n"
     ]
    }
   ],
   "source": [
    "# remove method\n",
    "marks=[90,80,60,20,30,80,80]\n",
    "print(marks)\n",
    "marks.remove(80)\n",
    "print(marks)"
   ]
  },
  {
   "cell_type": "code",
   "execution_count": 63,
   "id": "3eac35e9",
   "metadata": {},
   "outputs": [
    {
     "name": "stdout",
     "output_type": "stream",
     "text": [
      "[90, 60]\n",
      "[60]\n"
     ]
    }
   ],
   "source": [
    "# pop method to remove an item last come first out(stack)\n",
    "marks=[90,60,80]\n",
    "marks.pop()\n",
    "print(marks)\n",
    "marks.pop(0)\n",
    "print(marks)"
   ]
  },
  {
   "cell_type": "code",
   "execution_count": 64,
   "id": "e81c9892",
   "metadata": {},
   "outputs": [
    {
     "name": "stdout",
     "output_type": "stream",
     "text": [
      "[90, 60, 80, 40, 50, 60, 70]\n"
     ]
    },
    {
     "data": {
      "text/plain": [
       "60"
      ]
     },
     "execution_count": 64,
     "metadata": {},
     "output_type": "execute_result"
    }
   ],
   "source": [
    "marks=[90,60,80]\n",
    "marks.extend([40,50,60,70])\n",
    "print(marks)\n",
    "marks.pop()\n",
    "marks.pop()"
   ]
  },
  {
   "cell_type": "code",
   "execution_count": 68,
   "id": "27f7e0c4",
   "metadata": {},
   "outputs": [
    {
     "name": "stdout",
     "output_type": "stream",
     "text": [
      "[90, 70]\n"
     ]
    }
   ],
   "source": [
    "# delet item in a limit by adding empty list\n",
    "marks=[90,60,80,70]\n",
    "marks[1:3]=[]\n",
    "print(marks)"
   ]
  },
  {
   "cell_type": "code",
   "execution_count": 74,
   "id": "2cb65fae",
   "metadata": {},
   "outputs": [
    {
     "name": "stdout",
     "output_type": "stream",
     "text": [
      "['b', 'c', 'd']\n",
      "['c', 'd']\n"
     ]
    }
   ],
   "source": [
    "list=['a','b','c','d','e']\n",
    "print(list[1:4])\n",
    "print(list[-3:-1])"
   ]
  },
  {
   "cell_type": "code",
   "execution_count": 80,
   "id": "b206419d",
   "metadata": {},
   "outputs": [
    {
     "name": "stdout",
     "output_type": "stream",
     "text": [
      "old list :  ['hii', 'hello', 'kooi']\n",
      "appended list :  ['hii', 'hello', 'kooi', 'welcome']\n"
     ]
    }
   ],
   "source": [
    "list=[\"hii\",\"hello\",\"kooi\"]\n",
    "print('old list : ',list)\n",
    "list.append(\"welcome\")\n",
    "print('appended list : ',list)"
   ]
  },
  {
   "cell_type": "code",
   "execution_count": 81,
   "id": "82f8b454",
   "metadata": {},
   "outputs": [
    {
     "name": "stdout",
     "output_type": "stream",
     "text": [
      "['hii', 'hello', 'kooi', ['welcome', 'good']]\n"
     ]
    }
   ],
   "source": [
    "# adding list of a list\n",
    "list1=[\"hii\",\"hello\",\"kooi\"]\n",
    "list2=[\"welcome\",\"good\"]\n",
    "list1.append(list2)\n",
    "print(list1)"
   ]
  },
  {
   "cell_type": "code",
   "execution_count": 92,
   "id": "3da7254e",
   "metadata": {},
   "outputs": [
    {
     "name": "stdout",
     "output_type": "stream",
     "text": [
      "1\n",
      "2\n"
     ]
    }
   ],
   "source": [
    "list=['a','b','c','d','e','b','!']\n",
    "print(list.count('c'))\n",
    "print(list.count('b'))"
   ]
  },
  {
   "cell_type": "code",
   "execution_count": 104,
   "id": "68259b1e",
   "metadata": {},
   "outputs": [
    {
     "name": "stdout",
     "output_type": "stream",
     "text": [
      "Count is  1\n",
      "Count is  2\n"
     ]
    }
   ],
   "source": [
    "# count the occurrence of tuple and list inside the list\n",
    "list=['q','e',('a','b'),('i','o'),[4,7],[4,7]]\n",
    "count1=list.count(('a','b'))\n",
    "count2=list.count([4,7])\n",
    "print(\"Count is \",count1)\n",
    "print(\"Count is \",count2)"
   ]
  },
  {
   "cell_type": "code",
   "execution_count": 107,
   "id": "e231e2c0",
   "metadata": {},
   "outputs": [
    {
     "name": "stdout",
     "output_type": "stream",
     "text": [
      "Names are :  ['anu', 'appu', 'annu', 'ram', 'aswanth', 'sonu']\n"
     ]
    }
   ],
   "source": [
    "name1=['anu','appu','annu','ram']\n",
    "name2=['aswanth','sonu']\n",
    "name1.extend(name2)\n",
    "print('Names are : ',name1)"
   ]
  },
  {
   "cell_type": "code",
   "execution_count": 113,
   "id": "f2540774",
   "metadata": {},
   "outputs": [
    {
     "name": "stdout",
     "output_type": "stream",
     "text": [
      "Name list add tupl :  ['anu', 'appu', 'annu', 'ram', 'aswin', 'mini']\n",
      "name list ad set :  ['anu', 'appu', 'annu', 'ram', 'aswin', 'mini', 'monu', 'amaya']\n"
     ]
    }
   ],
   "source": [
    "name1=['anu','appu','annu','ram']\n",
    "name_tuple=('aswin','mini')\n",
    "name_set={'monu','amaya'}\n",
    "# add elements of tuple\n",
    "name1.extend(name_tuple)\n",
    "print('Name list add tupl : ',name1)\n",
    "# add elements of set\n",
    "name1.extend(name_set)\n",
    "print('name list ad set : ',name1)"
   ]
  },
  {
   "cell_type": "code",
   "execution_count": 124,
   "id": "8d1e4adb",
   "metadata": {},
   "outputs": [
    {
     "name": "stdout",
     "output_type": "stream",
     "text": [
      "2\n",
      "1\n"
     ]
    }
   ],
   "source": [
    "list=['a','b','c','d','e','b','!','b']\n",
    "print(list.index('c'))\n",
    "print(list.index('b'))\n",
    "# print(list.index('i'))"
   ]
  },
  {
   "cell_type": "code",
   "execution_count": 127,
   "id": "e4878f2d",
   "metadata": {},
   "outputs": [
    {
     "name": "stdout",
     "output_type": "stream",
     "text": [
      "['a', 'b', 'c', 'd', 'e']\n",
      "['a', 'f', 'b', 'c', 'd', 'e']\n"
     ]
    }
   ],
   "source": [
    "alpha=['a','b','c','d','e']\n",
    "print(alpha)\n",
    "alpha.insert(1,'f')\n",
    "print(alpha)"
   ]
  },
  {
   "cell_type": "code",
   "execution_count": 132,
   "id": "4d5ab0a4",
   "metadata": {},
   "outputs": [
    {
     "name": "stdout",
     "output_type": "stream",
     "text": [
      "Old list  [{1, 2}, [3, 5, 6, 9]]\n",
      "New list  [{1, 2}, (2, 4), [3, 5, 6, 9]]\n"
     ]
    }
   ],
   "source": [
    "# insert tuple as an element to list\n",
    "list=[{1,2},[3,5,6,9]]\n",
    "print('Old list ',list)\n",
    "num_tuple=(2,4)\n",
    "list.insert(1,num_tuple)\n",
    "print('New list ',list)"
   ]
  },
  {
   "cell_type": "code",
   "execution_count": 136,
   "id": "f807db4d",
   "metadata": {},
   "outputs": [
    {
     "name": "stdout",
     "output_type": "stream",
     "text": [
      "pop value is :  ram\n",
      "names are :  ['anu', 'appu', 'annu']\n"
     ]
    }
   ],
   "source": [
    "# pop element at the given index from the list\n",
    "name=['anu','appu','annu','ram']\n",
    "value=name.pop(3)\n",
    "print(\"pop value is : \",value)\n",
    "print(\"names are : \",name)"
   ]
  },
  {
   "cell_type": "code",
   "execution_count": 144,
   "id": "fd020b31",
   "metadata": {},
   "outputs": [
    {
     "name": "stdout",
     "output_type": "stream",
     "text": [
      "Return value is :  ram\n",
      "updated names  ['anu', 'appu', 'aswinu']\n",
      "Return value is :  aswinu\n",
      "updated names  ['anu', 'appu']\n"
     ]
    }
   ],
   "source": [
    "name=['anu','appu','aswinu','ram']\n",
    "print(\"Return value is : \",name.pop())\n",
    "print(\"updated names \",name)\n",
    "print(\"Return value is : \",name.pop(-1))\n",
    "print(\"updated names \",name)"
   ]
  },
  {
   "cell_type": "code",
   "execution_count": 153,
   "id": "a562f269",
   "metadata": {},
   "outputs": [
    {
     "name": "stdout",
     "output_type": "stream",
     "text": [
      "Old list [1, 2, 3, 4, 9]\n",
      "New list [1, 2, 3, 4, 9]\n"
     ]
    }
   ],
   "source": [
    "old=[1,2,3,4]\n",
    "new=old\n",
    "new.append(9)\n",
    "print(\"Old list\",old)\n",
    "print(\"New list\",new)"
   ]
  },
  {
   "cell_type": "code",
   "execution_count": 152,
   "id": "33204694",
   "metadata": {},
   "outputs": [
    {
     "name": "stdout",
     "output_type": "stream",
     "text": [
      "[1, 2, 3, 4, 'a']\n",
      "[1, 2, 3, 4, 'a', 9]\n"
     ]
    }
   ],
   "source": [
    "old=[1,2,3,4,'a']\n",
    "new=old.copy()\n",
    "new.append(9)\n",
    "print(old)\n",
    "print(new)"
   ]
  },
  {
   "cell_type": "code",
   "execution_count": 151,
   "id": "67317e80",
   "metadata": {},
   "outputs": [
    {
     "name": "stdout",
     "output_type": "stream",
     "text": [
      "[1, 2, 3, 4, 'a']\n",
      "[1, 2, 3, 4, 'a', 5]\n"
     ]
    }
   ],
   "source": [
    "list=[1,2,3,4,'a']\n",
    "new_list=list[:]\n",
    "new_list.append(5)\n",
    "print(list)\n",
    "print(new_list)"
   ]
  },
  {
   "cell_type": "code",
   "execution_count": 154,
   "id": "5f15d344",
   "metadata": {},
   "outputs": [
    {
     "name": "stdout",
     "output_type": "stream",
     "text": [
      "Orginal list [15, 52, 63, 47, 'a']\n",
      "Orginal list [15, 52, 47, 'a']\n"
     ]
    }
   ],
   "source": [
    "list=[15,52,63,47,'a']\n",
    "print(\"Orginal list\",list)\n",
    "list.remove(63)\n",
    "print(\"Orginal list\",list)"
   ]
  },
  {
   "cell_type": "code",
   "execution_count": 156,
   "id": "417e1382",
   "metadata": {},
   "outputs": [
    {
     "name": "stdout",
     "output_type": "stream",
     "text": [
      "Orginal list [15, 52, 63, 47, 'a']\n",
      "reverce list is ['a', 47, 63, 52, 15]\n"
     ]
    }
   ],
   "source": [
    "# reverse\n",
    "list=[15,52,63,47,'a']\n",
    "print(\"Orginal list\",list)\n",
    "reverse_list=list[::-1]\n",
    "print(\"reverce list is\",reverse_list)"
   ]
  },
  {
   "cell_type": "code",
   "execution_count": 157,
   "id": "5171cdb6",
   "metadata": {},
   "outputs": [
    {
     "name": "stdout",
     "output_type": "stream",
     "text": [
      "Orginal list [15, 52, 63, 47, 'c']\n",
      "reverse list ['c', 47, 63, 52, 15]\n"
     ]
    }
   ],
   "source": [
    "list=[15,52,63,47,'c']\n",
    "print(\"Orginal list\",list)\n",
    "list.reverse()\n",
    "print(\"reverse list\",list)"
   ]
  },
  {
   "cell_type": "code",
   "execution_count": 159,
   "id": "243e4ba3",
   "metadata": {},
   "outputs": [
    {
     "name": "stdout",
     "output_type": "stream",
     "text": [
      "Orginal list [1, 22, 3, 44, 15, 6]\n",
      "Orginal list [1, 3, 6, 15, 22, 44]\n"
     ]
    }
   ],
   "source": [
    "# ascending order\n",
    "list=[1,22,3,44,15,6]\n",
    "print(\"Orginal list\",list)\n",
    "list.sort()\n",
    "print(\"Orginal list\",list)"
   ]
  },
  {
   "cell_type": "code",
   "execution_count": 160,
   "id": "4ef17b99",
   "metadata": {},
   "outputs": [
    {
     "name": "stdout",
     "output_type": "stream",
     "text": [
      "Orginal list [1, 2, 3, 4, 5, 6]\n",
      "Orginal list [6, 5, 4, 3, 2, 1]\n"
     ]
    }
   ],
   "source": [
    "# decending order\n",
    "list=[1,2,3,4,5,6]\n",
    "print(\"Orginal list\",list)\n",
    "list.sort(reverse=True)\n",
    "print(\"Orginal list\",list)"
   ]
  },
  {
   "cell_type": "code",
   "execution_count": null,
   "id": "a0ee857b",
   "metadata": {},
   "outputs": [],
   "source": []
  },
  {
   "cell_type": "code",
   "execution_count": null,
   "id": "8889a724",
   "metadata": {},
   "outputs": [],
   "source": []
  }
 ],
 "metadata": {
  "kernelspec": {
   "display_name": "Python 3",
   "language": "python",
   "name": "python3"
  },
  "language_info": {
   "codemirror_mode": {
    "name": "ipython",
    "version": 3
   },
   "file_extension": ".py",
   "mimetype": "text/x-python",
   "name": "python",
   "nbconvert_exporter": "python",
   "pygments_lexer": "ipython3",
   "version": "3.8.8"
  }
 },
 "nbformat": 4,
 "nbformat_minor": 5
}
