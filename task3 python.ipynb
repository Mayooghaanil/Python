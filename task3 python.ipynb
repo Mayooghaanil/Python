{
 "cells": [
  {
   "cell_type": "code",
   "execution_count": 1,
   "id": "52322ae6",
   "metadata": {},
   "outputs": [
    {
     "data": {
      "text/plain": [
       "{10, 20, 30, 40}"
      ]
     },
     "execution_count": 1,
     "metadata": {},
     "output_type": "execute_result"
    }
   ],
   "source": [
    "set([10,20,30,40])"
   ]
  },
  {
   "cell_type": "code",
   "execution_count": 2,
   "id": "a1a48263",
   "metadata": {},
   "outputs": [
    {
     "name": "stdout",
     "output_type": "stream",
     "text": [
      "m\n",
      "e\n",
      "w\n",
      "o\n",
      "c\n",
      "l\n"
     ]
    }
   ],
   "source": [
    "s=set(\"welcome\")\n",
    "for i in s:\n",
    "    print(i)"
   ]
  },
  {
   "cell_type": "code",
   "execution_count": 3,
   "id": "ea7308ba",
   "metadata": {},
   "outputs": [
    {
     "name": "stdout",
     "output_type": "stream",
     "text": [
      "{100, 10, 20, 30}\n"
     ]
    }
   ],
   "source": [
    "s=set([10,20,30])\n",
    "s.add(100)\n",
    "print(s)"
   ]
  },
  {
   "cell_type": "code",
   "execution_count": 4,
   "id": "13eae532",
   "metadata": {},
   "outputs": [
    {
     "name": "stdout",
     "output_type": "stream",
     "text": [
      "{20, 30}\n"
     ]
    }
   ],
   "source": [
    "s=set([10,20,30])\n",
    "s.remove(10)\n",
    "print(s)"
   ]
  },
  {
   "cell_type": "code",
   "execution_count": 5,
   "id": "0ada14cc",
   "metadata": {},
   "outputs": [
    {
     "name": "stdout",
     "output_type": "stream",
     "text": [
      "union is : {1, 3, 20, 10, 30}\n",
      "intersection is : {20}\n",
      "difference is : {10, 30}\n",
      "symmetric difference is : {1, 3, 10, 30}\n"
     ]
    }
   ],
   "source": [
    "s1=set([10,20,30])\n",
    "s2=set([1,20,3])\n",
    "a=s1.union(s2)\n",
    "print(\"union is :\",a)\n",
    "b=s1.intersection(s2)\n",
    "print(\"intersection is :\",b)\n",
    "c=s1-s2\n",
    "print(\"difference is :\",c)\n",
    "d=s1.symmetric_difference(s2)\n",
    "print(\"symmetric difference is :\",d)"
   ]
  },
  {
   "cell_type": "code",
   "execution_count": 6,
   "id": "88500140",
   "metadata": {},
   "outputs": [
    {
     "name": "stdout",
     "output_type": "stream",
     "text": [
      "Check set1 is sub set of set2\n"
     ]
    },
    {
     "data": {
      "text/plain": [
       "True"
      ]
     },
     "execution_count": 6,
     "metadata": {},
     "output_type": "execute_result"
    }
   ],
   "source": [
    "set1=set([10,20,30])\n",
    "print(\"Check set1 is sub set of set2\")\n",
    "set2=set([10,20,30,40,50,60])\n",
    "set1.issubset(set2)"
   ]
  },
  {
   "cell_type": "code",
   "execution_count": 7,
   "id": "f2765685",
   "metadata": {},
   "outputs": [
    {
     "name": "stdout",
     "output_type": "stream",
     "text": [
      "{20, 30}\n"
     ]
    }
   ],
   "source": [
    "s1=set([10,20,30,40])\n",
    "s2=s.copy()\n",
    "print(s2)"
   ]
  },
  {
   "cell_type": "code",
   "execution_count": 8,
   "id": "2ac6bb7a",
   "metadata": {},
   "outputs": [
    {
     "name": "stdout",
     "output_type": "stream",
     "text": [
      "Enter the limit :2\n",
      "1\n",
      "2\n",
      "The set is : {1, 2}\n",
      "Enter the element you delete :3\n",
      "The item not present in your set\n"
     ]
    }
   ],
   "source": [
    "s1=set()\n",
    "lim=int(input(\"Enter the limit :\"))\n",
    "for i in range(0,lim):\n",
    "    ele=int(input())\n",
    "    s1.add(ele)\n",
    "print(\"The set is :\",s1)\n",
    "x=int(input(\"Enter the element you delete :\"))\n",
    "if x in s1:\n",
    "    s1.remove(x)\n",
    "    print(\"After deletion :\",s1)\n",
    "else:\n",
    "    print(\"The item not present in your set\")\n"
   ]
  },
  {
   "cell_type": "code",
   "execution_count": 9,
   "id": "22028ea7",
   "metadata": {},
   "outputs": [
    {
     "name": "stdout",
     "output_type": "stream",
     "text": [
      "set()\n"
     ]
    }
   ],
   "source": [
    "names=set([\"alan\",\"ammu\",\"ram\",\"sonu\"])\n",
    "names.clear()\n",
    "print(names)"
   ]
  },
  {
   "cell_type": "code",
   "execution_count": 10,
   "id": "227a6403",
   "metadata": {},
   "outputs": [
    {
     "data": {
      "text/plain": [
       "3"
      ]
     },
     "execution_count": 10,
     "metadata": {},
     "output_type": "execute_result"
    }
   ],
   "source": [
    "color=set([\"blue\",\"green\",\"red\"])\n",
    "len(color)"
   ]
  },
  {
   "cell_type": "code",
   "execution_count": 11,
   "id": "7d37fd2f",
   "metadata": {},
   "outputs": [
    {
     "name": "stdout",
     "output_type": "stream",
     "text": [
      "Enter the limit :3\n",
      "1\n",
      "2\n",
      "3\n",
      "The set is : {1, 2, 3}\n",
      "Enter the element you check :3\n",
      "element in the set\n"
     ]
    }
   ],
   "source": [
    "s1=set()\n",
    "lim=int(input(\"Enter the limit :\"))\n",
    "for i in range(0,lim):\n",
    "    ele=int(input())\n",
    "    s1.add(ele)\n",
    "print(\"The set is :\",s1)\n",
    "x=int(input(\"Enter the element you check :\"))\n",
    "if x in s1:\n",
    "    print(\"element in the set\")\n",
    "else:\n",
    "    print(\"element not in the set\")"
   ]
  },
  {
   "cell_type": "code",
   "execution_count": 13,
   "id": "b048f8af",
   "metadata": {},
   "outputs": [
    {
     "name": "stdout",
     "output_type": "stream",
     "text": [
      "in s1 not in s2 : {'babana', 'apple'}\n"
     ]
    }
   ],
   "source": [
    "s1=set([\"apple\",\"orange\",\"babana\"])\n",
    "s2=set([\"mango\",\"orange\",\"anar\"])\n",
    "c=s1-s2\n",
    "print(\"in s1 not in s2 :\",c)"
   ]
  },
  {
   "cell_type": "code",
   "execution_count": null,
   "id": "00f59882",
   "metadata": {},
   "outputs": [],
   "source": []
  }
 ],
 "metadata": {
  "kernelspec": {
   "display_name": "Python 3",
   "language": "python",
   "name": "python3"
  },
  "language_info": {
   "codemirror_mode": {
    "name": "ipython",
    "version": 3
   },
   "file_extension": ".py",
   "mimetype": "text/x-python",
   "name": "python",
   "nbconvert_exporter": "python",
   "pygments_lexer": "ipython3",
   "version": "3.8.8"
  }
 },
 "nbformat": 4,
 "nbformat_minor": 5
}
