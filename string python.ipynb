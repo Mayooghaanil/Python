{
 "cells": [
  {
   "cell_type": "code",
   "execution_count": 3,
   "id": "1d23986d",
   "metadata": {},
   "outputs": [
    {
     "data": {
      "text/plain": [
       "15"
      ]
     },
     "execution_count": 3,
     "metadata": {},
     "output_type": "execute_result"
    }
   ],
   "source": [
    "str=\"this is my book\"\n",
    "len(str)"
   ]
  },
  {
   "cell_type": "code",
   "execution_count": 4,
   "id": "689646c7",
   "metadata": {},
   "outputs": [
    {
     "data": {
      "text/plain": [
       "'This is string....wow'"
      ]
     },
     "execution_count": 4,
     "metadata": {},
     "output_type": "execute_result"
    }
   ],
   "source": [
    "str=\"this Is String....Wow\"\n",
    "str.capitalize()"
   ]
  },
  {
   "cell_type": "code",
   "execution_count": 42,
   "id": "085a3f3e",
   "metadata": {},
   "outputs": [
    {
     "data": {
      "text/plain": [
       "'This Is Example Woow..'"
      ]
     },
     "execution_count": 42,
     "metadata": {},
     "output_type": "execute_result"
    }
   ],
   "source": [
    "str1=\"this iS example woow..\"\n",
    "str1.title()\n",
    "# str1=\"this isn't iS example woow..\"\n",
    "# str1.title()"
   ]
  },
  {
   "cell_type": "code",
   "execution_count": 8,
   "id": "e8dcd567",
   "metadata": {},
   "outputs": [
    {
     "data": {
      "text/plain": [
       "'THIS IS UPPERCASE LETTER'"
      ]
     },
     "execution_count": 8,
     "metadata": {},
     "output_type": "execute_result"
    }
   ],
   "source": [
    "str=\"this is uppercase letter\"\n",
    "str.upper()"
   ]
  },
  {
   "cell_type": "code",
   "execution_count": 9,
   "id": "c46fa894",
   "metadata": {},
   "outputs": [
    {
     "data": {
      "text/plain": [
       "'this is lowercase letters'"
      ]
     },
     "execution_count": 9,
     "metadata": {},
     "output_type": "execute_result"
    }
   ],
   "source": [
    "str=\"THIS IS LOWERCASE letters\"\n",
    "str.lower()"
   ]
  },
  {
   "cell_type": "code",
   "execution_count": 50,
   "id": "12f9b0ed",
   "metadata": {},
   "outputs": [
    {
     "data": {
      "text/plain": [
       "2"
      ]
     },
     "execution_count": 50,
     "metadata": {},
     "output_type": "execute_result"
    }
   ],
   "source": [
    "str=\"this is string example...wow!!!\"\n",
    "sub=\"i\"\n",
    "str.count(sub,4,40)"
   ]
  },
  {
   "cell_type": "code",
   "execution_count": 17,
   "id": "be76b328",
   "metadata": {},
   "outputs": [
    {
     "data": {
      "text/plain": [
       "1"
      ]
     },
     "execution_count": 17,
     "metadata": {},
     "output_type": "execute_result"
    }
   ],
   "source": [
    "sub=\"wow\"\n",
    "str.count(sub)"
   ]
  },
  {
   "cell_type": "code",
   "execution_count": 36,
   "id": "056a3f51",
   "metadata": {},
   "outputs": [
    {
     "data": {
      "text/plain": [
       "15"
      ]
     },
     "execution_count": 36,
     "metadata": {},
     "output_type": "execute_result"
    }
   ],
   "source": [
    "str1=\"this is strimg example.... woow!!!\"\n",
    "str2=\"exam\"\n",
    "str1.find(str2)"
   ]
  },
  {
   "cell_type": "code",
   "execution_count": 26,
   "id": "de919efc",
   "metadata": {},
   "outputs": [
    {
     "data": {
      "text/plain": [
       "15"
      ]
     },
     "execution_count": 26,
     "metadata": {},
     "output_type": "execute_result"
    }
   ],
   "source": [
    "str1.find(str2,2,20)"
   ]
  },
  {
   "cell_type": "code",
   "execution_count": 30,
   "id": "b278de42",
   "metadata": {},
   "outputs": [
    {
     "data": {
      "text/plain": [
       "-1"
      ]
     },
     "execution_count": 30,
     "metadata": {},
     "output_type": "execute_result"
    }
   ],
   "source": [
    "str1.find(str2,40)"
   ]
  },
  {
   "cell_type": "code",
   "execution_count": 71,
   "id": "dd13cf95",
   "metadata": {},
   "outputs": [
    {
     "data": {
      "text/plain": [
       "False"
      ]
     },
     "execution_count": 71,
     "metadata": {},
     "output_type": "execute_result"
    }
   ],
   "source": [
    "str=\"this23423.\"\n",
    "str.isalnum()"
   ]
  },
  {
   "cell_type": "code",
   "execution_count": 83,
   "id": "1169a8ba",
   "metadata": {},
   "outputs": [
    {
     "data": {
      "text/plain": [
       "True"
      ]
     },
     "execution_count": 83,
     "metadata": {},
     "output_type": "execute_result"
    }
   ],
   "source": [
    "str=\"this\"\n",
    "str.isalpha()"
   ]
  },
  {
   "cell_type": "code",
   "execution_count": 69,
   "id": "e0a03435",
   "metadata": {},
   "outputs": [
    {
     "data": {
      "text/plain": [
       "False"
      ]
     },
     "execution_count": 69,
     "metadata": {},
     "output_type": "execute_result"
    }
   ],
   "source": [
    "str=\"this is example234\"\n",
    "str.isalpha()"
   ]
  },
  {
   "cell_type": "code",
   "execution_count": 81,
   "id": "372a9745",
   "metadata": {},
   "outputs": [
    {
     "data": {
      "text/plain": [
       "True"
      ]
     },
     "execution_count": 81,
     "metadata": {},
     "output_type": "execute_result"
    }
   ],
   "source": [
    "str=\"20002\"\n",
    "str.isdigit()"
   ]
  },
  {
   "cell_type": "code",
   "execution_count": 77,
   "id": "73232d44",
   "metadata": {},
   "outputs": [
    {
     "data": {
      "text/plain": [
       "False"
      ]
     },
     "execution_count": 77,
     "metadata": {},
     "output_type": "execute_result"
    }
   ],
   "source": [
    "str=\"2002km\"\n",
    "str.isdigit()"
   ]
  },
  {
   "cell_type": "code",
   "execution_count": 87,
   "id": "adc7293e",
   "metadata": {},
   "outputs": [
    {
     "data": {
      "text/plain": [
       "True"
      ]
     },
     "execution_count": 87,
     "metadata": {},
     "output_type": "execute_result"
    }
   ],
   "source": [
    "str=\" \"\n",
    "str.isspace()"
   ]
  },
  {
   "cell_type": "code",
   "execution_count": 88,
   "id": "14bcc795",
   "metadata": {},
   "outputs": [
    {
     "data": {
      "text/plain": [
       "False"
      ]
     },
     "execution_count": 88,
     "metadata": {},
     "output_type": "execute_result"
    }
   ],
   "source": [
    "str=\"the sting is not isspace\"\n",
    "str.isspace()"
   ]
  },
  {
   "cell_type": "code",
   "execution_count": 89,
   "id": "0861edf7",
   "metadata": {},
   "outputs": [
    {
     "data": {
      "text/plain": [
       "False"
      ]
     },
     "execution_count": 89,
     "metadata": {},
     "output_type": "execute_result"
    }
   ],
   "source": [
    "str=\"THIS is check its lowercase\"\n",
    "str.islower()"
   ]
  },
  {
   "cell_type": "code",
   "execution_count": 91,
   "id": "0c29f4f2",
   "metadata": {},
   "outputs": [
    {
     "data": {
      "text/plain": [
       "True"
      ]
     },
     "execution_count": 91,
     "metadata": {},
     "output_type": "execute_result"
    }
   ],
   "source": [
    "str=\"check its lowercase..!!\"\n",
    "str.islower()"
   ]
  },
  {
   "cell_type": "code",
   "execution_count": 95,
   "id": "b7e99956",
   "metadata": {},
   "outputs": [
    {
     "data": {
      "text/plain": [
       "True"
      ]
     },
     "execution_count": 95,
     "metadata": {},
     "output_type": "execute_result"
    }
   ],
   "source": [
    "str=\"this2009\"\n",
    "str.islower()"
   ]
  },
  {
   "cell_type": "code",
   "execution_count": 93,
   "id": "e691b53b",
   "metadata": {},
   "outputs": [
    {
     "data": {
      "text/plain": [
       "False"
      ]
     },
     "execution_count": 93,
     "metadata": {},
     "output_type": "execute_result"
    }
   ],
   "source": [
    "str=\"2009\"\n",
    "str.islower()"
   ]
  },
  {
   "cell_type": "code",
   "execution_count": 101,
   "id": "0d1123db",
   "metadata": {},
   "outputs": [
    {
     "data": {
      "text/plain": [
       "True"
      ]
     },
     "execution_count": 101,
     "metadata": {},
     "output_type": "execute_result"
    }
   ],
   "source": [
    "str=\"THE STRING IS FULL UPPERCASE.11!\"\n",
    "str.isupper()"
   ]
  },
  {
   "cell_type": "code",
   "execution_count": 98,
   "id": "97170916",
   "metadata": {},
   "outputs": [
    {
     "data": {
      "text/plain": [
       "False"
      ]
     },
     "execution_count": 98,
     "metadata": {},
     "output_type": "execute_result"
    }
   ],
   "source": [
    "str=\"This is strimg example\"\n",
    "str.isupper()"
   ]
  },
  {
   "cell_type": "code",
   "execution_count": 102,
   "id": "89f82ec2",
   "metadata": {},
   "outputs": [
    {
     "data": {
      "text/plain": [
       "False"
      ]
     },
     "execution_count": 102,
     "metadata": {},
     "output_type": "execute_result"
    }
   ],
   "source": [
    "str=\"123\"\n",
    "str.isupper()"
   ]
  },
  {
   "cell_type": "code",
   "execution_count": 103,
   "id": "bb35f460",
   "metadata": {},
   "outputs": [
    {
     "data": {
      "text/plain": [
       "True"
      ]
     },
     "execution_count": 103,
     "metadata": {},
     "output_type": "execute_result"
    }
   ],
   "source": [
    "str=\"This Is The Title\"\n",
    "str.istitle()"
   ]
  },
  {
   "cell_type": "code",
   "execution_count": 104,
   "id": "72705fe8",
   "metadata": {},
   "outputs": [
    {
     "data": {
      "text/plain": [
       "False"
      ]
     },
     "execution_count": 104,
     "metadata": {},
     "output_type": "execute_result"
    }
   ],
   "source": [
    "str=\"This is the title\"\n",
    "str.istitle()"
   ]
  },
  {
   "cell_type": "code",
   "execution_count": 113,
   "id": "1073146a",
   "metadata": {},
   "outputs": [
    {
     "data": {
      "text/plain": [
       "'this is string0 example '"
      ]
     },
     "execution_count": 113,
     "metadata": {},
     "output_type": "execute_result"
    }
   ],
   "source": [
    "str=\"mmmmmmm0000this is string0 example 00000mmmmmm\"\n",
    "str.strip('m0')"
   ]
  },
  {
   "cell_type": "code",
   "execution_count": 112,
   "id": "b820f036",
   "metadata": {},
   "outputs": [
    {
     "data": {
      "text/plain": [
       "'this is string0 example '"
      ]
     },
     "execution_count": 112,
     "metadata": {},
     "output_type": "execute_result"
    }
   ],
   "source": [
    "str=\"0000this is string0 example 00000\"\n",
    "str.strip('0')"
   ]
  },
  {
   "cell_type": "code",
   "execution_count": 116,
   "id": "cc7c9d0e",
   "metadata": {},
   "outputs": [
    {
     "data": {
      "text/plain": [
       "('th', 'i', 's is string example...wow!!!')"
      ]
     },
     "execution_count": 116,
     "metadata": {},
     "output_type": "execute_result"
    }
   ],
   "source": [
    "str=\"this is string example...wow!!!\"\n",
    "str.partition('i')"
   ]
  },
  {
   "cell_type": "code",
   "execution_count": 132,
   "id": "479dd7eb",
   "metadata": {},
   "outputs": [
    {
     "data": {
      "text/plain": [
       "('t', 'hi', 's is partition function')"
      ]
     },
     "execution_count": 132,
     "metadata": {},
     "output_type": "execute_result"
    }
   ],
   "source": [
    "str=\"this is partition function\"\n",
    "str.partition('hi')"
   ]
  },
  {
   "cell_type": "code",
   "execution_count": 133,
   "id": "53bf45cf",
   "metadata": {},
   "outputs": [
    {
     "data": {
      "text/plain": [
       "['this', 'is', 'my', 'book!!']"
      ]
     },
     "execution_count": 133,
     "metadata": {},
     "output_type": "execute_result"
    }
   ],
   "source": [
    "str=\"this is my book!!\"\n",
    "str.split()"
   ]
  },
  {
   "cell_type": "code",
   "execution_count": 136,
   "id": "a0eb3b20",
   "metadata": {},
   "outputs": [
    {
     "data": {
      "text/plain": [
       "'tHIS IS STRING EXAMPLE...wow'"
      ]
     },
     "execution_count": 136,
     "metadata": {},
     "output_type": "execute_result"
    }
   ],
   "source": [
    "str=\"This is string example...WOW\"\n",
    "str.swapcase()"
   ]
  },
  {
   "cell_type": "code",
   "execution_count": 147,
   "id": "5a147732",
   "metadata": {},
   "outputs": [
    {
     "data": {
      "text/plain": [
       "'h*e*l*l*o* *w*o*r*l*d*.*.'"
      ]
     },
     "execution_count": 147,
     "metadata": {},
     "output_type": "execute_result"
    }
   ],
   "source": [
    "str=\"hello world..\"\n",
    "t=\"*\"\n",
    "t.join(str)"
   ]
  },
  {
   "cell_type": "code",
   "execution_count": 144,
   "id": "5246ad14",
   "metadata": {},
   "outputs": [
    {
     "data": {
      "text/plain": [
       "'thwas was a string example..!thwas was realy string'"
      ]
     },
     "execution_count": 144,
     "metadata": {},
     "output_type": "execute_result"
    }
   ],
   "source": [
    "str=\"this is a string example..!this is realy string\"\n",
    "str.replace(\"is\",\"was\")"
   ]
  },
  {
   "cell_type": "code",
   "execution_count": 145,
   "id": "70d5e5d3",
   "metadata": {},
   "outputs": [
    {
     "data": {
      "text/plain": [
       "'apple , orange , mango'"
      ]
     },
     "execution_count": 145,
     "metadata": {},
     "output_type": "execute_result"
    }
   ],
   "source": [
    "str=\"apple and orange and mango\"\n",
    "str.replace(\"and\",\",\")\n"
   ]
  },
  {
   "cell_type": "code",
   "execution_count": null,
   "id": "b73bb8a5",
   "metadata": {},
   "outputs": [],
   "source": []
  },
  {
   "cell_type": "code",
   "execution_count": null,
   "id": "2275da3a",
   "metadata": {},
   "outputs": [],
   "source": []
  }
 ],
 "metadata": {
  "kernelspec": {
   "display_name": "Python 3",
   "language": "python",
   "name": "python3"
  },
  "language_info": {
   "codemirror_mode": {
    "name": "ipython",
    "version": 3
   },
   "file_extension": ".py",
   "mimetype": "text/x-python",
   "name": "python",
   "nbconvert_exporter": "python",
   "pygments_lexer": "ipython3",
   "version": "3.8.8"
  }
 },
 "nbformat": 4,
 "nbformat_minor": 5
}
