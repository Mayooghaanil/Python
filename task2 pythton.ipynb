{
 "cells": [
  {
   "cell_type": "code",
   "execution_count": 1,
   "id": "8c24ec66",
   "metadata": {},
   "outputs": [
    {
     "name": "stdout",
     "output_type": "stream",
     "text": [
      "('anu', 'appu', 'alan', 'arathi')\n"
     ]
    }
   ],
   "source": [
    "# program to creat a tuple\n",
    "a=(\"anu\",\"appu\",\"alan\",\"arathi\")\n",
    "print(a)"
   ]
  },
  {
   "cell_type": "code",
   "execution_count": 2,
   "id": "94648225",
   "metadata": {},
   "outputs": [
    {
     "name": "stdout",
     "output_type": "stream",
     "text": [
      "('welcome', 10, 1.0, 20)\n",
      "(100,)\n"
     ]
    }
   ],
   "source": [
    "# creat a tuple with number\n",
    "a=(\"welcome\",10,1.0,20)\n",
    "print(a)\n",
    "# creat a tuple with one item\n",
    "b=(100,)\n",
    "print(b)"
   ]
  },
  {
   "cell_type": "code",
   "execution_count": 3,
   "id": "4c8164e8",
   "metadata": {},
   "outputs": [
    {
     "name": "stdout",
     "output_type": "stream",
     "text": [
      "Tuple with different data type : ('hii', 10, [10, 30, 40], 10.4)\n"
     ]
    }
   ],
   "source": [
    "a=(\"hii\",10,[10,30,40],10.4)\n",
    "print(\"Tuple with different data type :\",a)"
   ]
  },
  {
   "cell_type": "code",
   "execution_count": 4,
   "id": "b8ce3afb",
   "metadata": {},
   "outputs": [
    {
     "name": "stdout",
     "output_type": "stream",
     "text": [
      "The tuple is : (10, 20, 30, 40, 50, 60)\n",
      "unpacking tuple is : (24.78, 100, 'hii', [1, 2, 3], 50, 60)\n"
     ]
    }
   ],
   "source": [
    "# tuple unpacking in several variable\n",
    "val=(10,20,30,40,50,60)\n",
    "a,b,c,d,e,f=val\n",
    "print(\"The tuple is :\",val)\n",
    "a=24.78\n",
    "b=100\n",
    "c=\"hii\"\n",
    "d=[1,2,3]\n",
    "val=(a,b,c,d,e,f)\n",
    "print(\"unpacking tuple is :\",val)"
   ]
  },
  {
   "cell_type": "code",
   "execution_count": 5,
   "id": "05b1bb08",
   "metadata": {},
   "outputs": [
    {
     "name": "stdout",
     "output_type": "stream",
     "text": [
      "welcome\n"
     ]
    }
   ],
   "source": [
    "value=('w','e','l','c','o','m','e')\n",
    "string=\"\"\n",
    "for i in value:\n",
    "    string=string+i\n",
    "print(string)"
   ]
  },
  {
   "cell_type": "code",
   "execution_count": 6,
   "id": "978371b6",
   "metadata": {},
   "outputs": [
    {
     "name": "stdout",
     "output_type": "stream",
     "text": [
      "Enter the number :100\n",
      "value not in the tuple\n"
     ]
    }
   ],
   "source": [
    "values=(10,20,30,40)\n",
    "b=int(input(\"Enter the number :\"))\n",
    "if b in values:\n",
    "    print(\"value in the tuple\")\n",
    "else:\n",
    "    print(\"value not in the tuple\")\n",
    "    \n"
   ]
  },
  {
   "cell_type": "code",
   "execution_count": 8,
   "id": "870b03ea",
   "metadata": {},
   "outputs": [
    {
     "name": "stdout",
     "output_type": "stream",
     "text": [
      "The list is : ['apple', 'mango', 'banana', 'orange']\n",
      "The tuple is : ('apple', 'mango', 'banana', 'orange')\n"
     ]
    }
   ],
   "source": [
    "item=[\"apple\",\"mango\",\"banana\",\"orange\"]\n",
    "print(\"The list is :\",item)\n",
    "t=tuple(item)\n",
    "print(\"The tuple is :\",t)"
   ]
  },
  {
   "cell_type": "code",
   "execution_count": 27,
   "id": "0c5860aa",
   "metadata": {},
   "outputs": [
    {
     "name": "stdout",
     "output_type": "stream",
     "text": [
      "items are : (100, 120, 115, 209, 823, 989, 109)\n",
      "(100, 115, 823, 109)\n",
      "(989,)\n",
      "(115, 209, 823, 115, 209, 823, 115, 209, 823, 500, 100)\n"
     ]
    }
   ],
   "source": [
    "items=(100,120,115,209,823,989,109)\n",
    "print(\"items are :\",items)\n",
    "a=items[::2]\n",
    "print(a)\n",
    "b=items[5::3]\n",
    "print(b)\n",
    "c=items[2:5]*3\n",
    "d=c+(500,100)\n",
    "print(d)"
   ]
  },
  {
   "cell_type": "code",
   "execution_count": 31,
   "id": "564d1e8e",
   "metadata": {},
   "outputs": [
    {
     "name": "stdout",
     "output_type": "stream",
     "text": [
      "length is : 6\n"
     ]
    }
   ],
   "source": [
    "tp=(100,120,\"hii\",209,823,[10,20])\n",
    "length=len(tp)\n",
    "print(\"length is :\",length)"
   ]
  },
  {
   "cell_type": "code",
   "execution_count": 33,
   "id": "fe9892ae",
   "metadata": {},
   "outputs": [
    {
     "name": "stdout",
     "output_type": "stream",
     "text": [
      "The directory is : {100: 'apple', 101: 'mango'}\n",
      "The tuple is : (100, 101)\n"
     ]
    }
   ],
   "source": [
    "# convert tuple to directory\n",
    "directory=({100:'apple',101:'mango'})\n",
    "print(\"The directory is :\",directory)\n",
    "tup=tuple({100:'apple',101:'mango'})\n",
    "print(\"The tuple is :\",tup)"
   ]
  },
  {
   "cell_type": "code",
   "execution_count": 46,
   "id": "1df959b7",
   "metadata": {},
   "outputs": [
    {
     "data": {
      "text/plain": [
       "(109, 989, 823, 209, 115, 120, 100)"
      ]
     },
     "execution_count": 46,
     "metadata": {},
     "output_type": "execute_result"
    }
   ],
   "source": [
    "# reverse a tuple\n",
    "items=(100,120,115,209,823,989,109)\n",
    "items[::-1]"
   ]
  },
  {
   "cell_type": "code",
   "execution_count": null,
   "id": "4a1b74de",
   "metadata": {},
   "outputs": [],
   "source": []
  }
 ],
 "metadata": {
  "kernelspec": {
   "display_name": "Python 3",
   "language": "python",
   "name": "python3"
  },
  "language_info": {
   "codemirror_mode": {
    "name": "ipython",
    "version": 3
   },
   "file_extension": ".py",
   "mimetype": "text/x-python",
   "name": "python",
   "nbconvert_exporter": "python",
   "pygments_lexer": "ipython3",
   "version": "3.8.8"
  }
 },
 "nbformat": 4,
 "nbformat_minor": 5
}
