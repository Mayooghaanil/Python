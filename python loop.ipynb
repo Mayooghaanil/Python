{
 "cells": [
  {
   "cell_type": "code",
   "execution_count": 1,
   "id": "df54fb2c",
   "metadata": {},
   "outputs": [
    {
     "name": "stdout",
     "output_type": "stream",
     "text": [
      "num is positive number\n",
      "This is always print\n"
     ]
    }
   ],
   "source": [
    "# if\n",
    "num=3\n",
    "if num>0:\n",
    "    print(\"num is positive number\")\n",
    "print(\"This is always print\")\n"
   ]
  },
  {
   "cell_type": "code",
   "execution_count": 2,
   "id": "53bf0a7e",
   "metadata": {},
   "outputs": [
    {
     "name": "stdout",
     "output_type": "stream",
     "text": [
      "This is always print\n"
     ]
    }
   ],
   "source": [
    "num=-1\n",
    "if num>0:\n",
    "    print(\"num is positive number\")\n",
    "print(\"This is always print\")\n"
   ]
  },
  {
   "cell_type": "code",
   "execution_count": 3,
   "id": "bc2eddd5",
   "metadata": {},
   "outputs": [
    {
     "name": "stdout",
     "output_type": "stream",
     "text": [
      "num is positive or zero\n"
     ]
    }
   ],
   "source": [
    "num=3\n",
    "if num>=0:\n",
    "    print(\"num is positive or zero\")\n",
    "else:\n",
    "    print(\"negative num\")\n",
    "\n"
   ]
  },
  {
   "cell_type": "code",
   "execution_count": 4,
   "id": "c91c316a",
   "metadata": {},
   "outputs": [
    {
     "name": "stdout",
     "output_type": "stream",
     "text": [
      "positive\n"
     ]
    }
   ],
   "source": [
    "num=1\n",
    "if num>0:\n",
    "    print(\"positive\")\n",
    "else:\n",
    "    if num<0:\n",
    "        print(\"negative\")\n",
    "    else:\n",
    "        print(\"zero\")"
   ]
  },
  {
   "cell_type": "code",
   "execution_count": 5,
   "id": "a4722708",
   "metadata": {},
   "outputs": [
    {
     "name": "stdout",
     "output_type": "stream",
     "text": [
      "zero\n"
     ]
    }
   ],
   "source": [
    "num=0\n",
    "if num>0:\n",
    "    print(\"positive\")\n",
    "elif num>0:\n",
    "    print(\"negative\")\n",
    "else:\n",
    "    print(\"zero\")"
   ]
  },
  {
   "cell_type": "code",
   "execution_count": 6,
   "id": "fd112563",
   "metadata": {},
   "outputs": [
    {
     "name": "stdout",
     "output_type": "stream",
     "text": [
      "Enter the year number6\n",
      "not leap year\n"
     ]
    }
   ],
   "source": [
    "year=int(input(\"Enter the year number\"))\n",
    "if(year%400==0):\n",
    "    print(\"is leap year\")\n",
    "elif(year%100==0):\n",
    "    print(\"not leap year\")\n",
    "elif(year%4==0):\n",
    "    print(\"leap year\")\n",
    "else:\n",
    "    print(\"not leap year\")"
   ]
  },
  {
   "cell_type": "code",
   "execution_count": 7,
   "id": "b02bd394",
   "metadata": {},
   "outputs": [
    {
     "name": "stdout",
     "output_type": "stream",
     "text": [
      "enter the number 8\n",
      "num is 0\n",
      "digit is  1\n"
     ]
    }
   ],
   "source": [
    "num=int(input(\"enter the number \"))\n",
    "digit=0\n",
    "while num!=0:\n",
    "    num=num//10\n",
    "    print(\"num is\",num)\n",
    "    digit=digit+1\n",
    "print(\"digit is \",digit)"
   ]
  },
  {
   "cell_type": "code",
   "execution_count": 8,
   "id": "a5f659c8",
   "metadata": {},
   "outputs": [
    {
     "name": "stdout",
     "output_type": "stream",
     "text": [
      "Enter the number 8\n",
      "div is 2\n",
      "not prime\n"
     ]
    }
   ],
   "source": [
    "n=int(input(\"Enter the number \"))\n",
    "flag=True\n",
    "for div in range(2,n):\n",
    "    if n % div==0:\n",
    "        flag=False\n",
    "        break;\n",
    "print(\"div is\",div)\n",
    "print(\"prime\" if flag==True else \"not prime\")"
   ]
  },
  {
   "cell_type": "code",
   "execution_count": 9,
   "id": "02217e2c",
   "metadata": {},
   "outputs": [
    {
     "name": "stdout",
     "output_type": "stream",
     "text": [
      "0\n",
      "3\n",
      "6\n",
      "9\n",
      "12\n",
      "15\n",
      "18\n",
      "The end\n"
     ]
    }
   ],
   "source": [
    "for val in range(20):\n",
    "    if val % 3==0:\n",
    "        print(val)\n",
    "print(\"The end\")"
   ]
  },
  {
   "cell_type": "code",
   "execution_count": 10,
   "id": "944de098",
   "metadata": {},
   "outputs": [
    {
     "name": "stdout",
     "output_type": "stream",
     "text": [
      "1\n",
      "2\n",
      "4\n",
      "5\n",
      "7\n",
      "8\n",
      "10\n",
      "11\n",
      "13\n",
      "14\n",
      "16\n",
      "17\n",
      "19\n",
      "The end\n"
     ]
    }
   ],
   "source": [
    "# continue\n",
    "for val in range(20):\n",
    "    if val % 3==0:\n",
    "        continue\n",
    "    print(val)\n",
    "print(\"The end\")"
   ]
  },
  {
   "cell_type": "code",
   "execution_count": 11,
   "id": "c0b83128",
   "metadata": {},
   "outputs": [
    {
     "name": "stdout",
     "output_type": "stream",
     "text": [
      "0\n",
      "1\n",
      "5\n",
      "not item left\n"
     ]
    }
   ],
   "source": [
    "# for\n",
    "digit=[0,1,5]\n",
    "for i in digit:\n",
    "    print(i)\n",
    "else:\n",
    "    print(\"not item left\")"
   ]
  },
  {
   "cell_type": "code",
   "execution_count": 12,
   "id": "b7f5a892",
   "metadata": {},
   "outputs": [
    {
     "name": "stdout",
     "output_type": "stream",
     "text": [
      "Enter the number 8\n",
      "not prime divided by 2\n"
     ]
    }
   ],
   "source": [
    "# break\n",
    "n=int(input(\"Enter the number \"))\n",
    "for div in range(2,n):\n",
    "    if n % div==0:\n",
    "        print(\"not prime divided by\",div)\n",
    "        break;\n",
    "    else:\n",
    "        print(\"prime\")\n"
   ]
  },
  {
   "cell_type": "code",
   "execution_count": 13,
   "id": "b4f93c7d",
   "metadata": {},
   "outputs": [
    {
     "name": "stdout",
     "output_type": "stream",
     "text": [
      "Enter the loweer range 9\n",
      "Enter the upper range 0\n",
      "prime number between 9 and 0 are: \n"
     ]
    }
   ],
   "source": [
    "# nested loop\n",
    "lower=int(input(\"Enter the loweer range \"))\n",
    "upper=int(input(\"Enter the upper range \"))\n",
    "print(\"prime number between\",lower,\"and\",upper,\"are: \")\n",
    "for num in range(lower,upper+1):\n",
    "    if num>1:\n",
    "        for i in range(2,num):\n",
    "            if num%i==0:\n",
    "                break;\n",
    "            else:\n",
    "                print(num)"
   ]
  },
  {
   "cell_type": "code",
   "execution_count": 14,
   "id": "23d9329b",
   "metadata": {},
   "outputs": [
    {
     "name": "stdout",
     "output_type": "stream",
     "text": [
      "not prime visible by  3\n"
     ]
    }
   ],
   "source": [
    "# while loop\n",
    "n=9\n",
    "i=2\n",
    "while i<n:\n",
    "    if (n%i==0):\n",
    "        print(\"not prime visible by \",i)\n",
    "        break\n",
    "    i=i+1\n",
    "else:\n",
    "    print(\"number is prime\")"
   ]
  },
  {
   "cell_type": "code",
   "execution_count": 20,
   "id": "2353d09b",
   "metadata": {},
   "outputs": [],
   "source": [
    "# pass statement\n",
    "# is just a placeholder for functionality to be added later\n",
    "sequence={\"p\",\"a\",\"s\",\"s\"}\n",
    "for val in sequence:\n",
    "    pass"
   ]
  },
  {
   "cell_type": "code",
   "execution_count": null,
   "id": "1bddb7d0",
   "metadata": {},
   "outputs": [],
   "source": []
  }
 ],
 "metadata": {
  "kernelspec": {
   "display_name": "Python 3",
   "language": "python",
   "name": "python3"
  },
  "language_info": {
   "codemirror_mode": {
    "name": "ipython",
    "version": 3
   },
   "file_extension": ".py",
   "mimetype": "text/x-python",
   "name": "python",
   "nbconvert_exporter": "python",
   "pygments_lexer": "ipython3",
   "version": "3.8.8"
  }
 },
 "nbformat": 4,
 "nbformat_minor": 5
}
