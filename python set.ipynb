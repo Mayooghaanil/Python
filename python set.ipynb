{
 "cells": [
  {
   "cell_type": "code",
   "execution_count": 1,
   "id": "8997db47",
   "metadata": {},
   "outputs": [
    {
     "name": "stdout",
     "output_type": "stream",
     "text": [
      "{10, 20, 30}\n"
     ]
    }
   ],
   "source": [
    "# set\n",
    "s={10,20,30,10,20}\n",
    "print(s)"
   ]
  },
  {
   "cell_type": "code",
   "execution_count": 2,
   "id": "804629b1",
   "metadata": {},
   "outputs": [
    {
     "data": {
      "text/plain": [
       "{10, 20, 30}"
      ]
     },
     "execution_count": 2,
     "metadata": {},
     "output_type": "execute_result"
    }
   ],
   "source": [
    "# set use in constructor\n",
    "set([10,20,30])"
   ]
  },
  {
   "cell_type": "code",
   "execution_count": 3,
   "id": "d96d1bde",
   "metadata": {},
   "outputs": [
    {
     "data": {
      "text/plain": [
       "{'a', 'b', 'c'}"
      ]
     },
     "execution_count": 3,
     "metadata": {},
     "output_type": "execute_result"
    }
   ],
   "source": [
    "set(['a','b','c'])"
   ]
  },
  {
   "cell_type": "code",
   "execution_count": 4,
   "id": "90ea4453",
   "metadata": {},
   "outputs": [
    {
     "data": {
      "text/plain": [
       "{'a', 'l', 'm', 'y'}"
      ]
     },
     "execution_count": 4,
     "metadata": {},
     "output_type": "execute_result"
    }
   ],
   "source": [
    "# convert string to set\n",
    "set(\"malayalam\")"
   ]
  },
  {
   "cell_type": "code",
   "execution_count": 6,
   "id": "03f44a13",
   "metadata": {},
   "outputs": [
    {
     "name": "stdout",
     "output_type": "stream",
     "text": [
      "{100, 10, 20, 30}\n"
     ]
    }
   ],
   "source": [
    "# add element to a set\n",
    "s=set([10,20,30])\n",
    "s.add(100)\n",
    "print(s)"
   ]
  },
  {
   "cell_type": "code",
   "execution_count": 7,
   "id": "dfb872a9",
   "metadata": {},
   "outputs": [
    {
     "name": "stdout",
     "output_type": "stream",
     "text": [
      "{100, 101, 102, 10, 20, 30}\n"
     ]
    }
   ],
   "source": [
    "# update a set\n",
    "s=set([10,20,30])\n",
    "s.update([100,101,102])\n",
    "print(s)"
   ]
  },
  {
   "cell_type": "code",
   "execution_count": 8,
   "id": "d6e0ef40",
   "metadata": {},
   "outputs": [
    {
     "name": "stdout",
     "output_type": "stream",
     "text": [
      "{100, 101, 102, 20, 10, 30}\n"
     ]
    }
   ],
   "source": [
    "# copy a set\n",
    "s2=s.copy()\n",
    "print(s2)"
   ]
  },
  {
   "cell_type": "code",
   "execution_count": 9,
   "id": "d47089e4",
   "metadata": {},
   "outputs": [
    {
     "data": {
      "text/plain": [
       "True"
      ]
     },
     "execution_count": 9,
     "metadata": {},
     "output_type": "execute_result"
    }
   ],
   "source": [
    "# membership operator\n",
    "s=set([10,20,30])\n",
    "30 in s"
   ]
  },
  {
   "cell_type": "code",
   "execution_count": 10,
   "id": "aea4f922",
   "metadata": {},
   "outputs": [
    {
     "data": {
      "text/plain": [
       "False"
      ]
     },
     "execution_count": 10,
     "metadata": {},
     "output_type": "execute_result"
    }
   ],
   "source": [
    "1 in s"
   ]
  },
  {
   "cell_type": "code",
   "execution_count": 11,
   "id": "e1ac79eb",
   "metadata": {},
   "outputs": [
    {
     "data": {
      "text/plain": [
       "True"
      ]
     },
     "execution_count": 11,
     "metadata": {},
     "output_type": "execute_result"
    }
   ],
   "source": [
    "1 not in s"
   ]
  },
  {
   "cell_type": "code",
   "execution_count": 13,
   "id": "4ddf1711",
   "metadata": {},
   "outputs": [
    {
     "data": {
      "text/plain": [
       "True"
      ]
     },
     "execution_count": 13,
     "metadata": {},
     "output_type": "execute_result"
    }
   ],
   "source": [
    "# check subset\n",
    "s=set([10,20,30])\n",
    "s.issubset(set([10,20,30,40,50,60]))"
   ]
  },
  {
   "cell_type": "code",
   "execution_count": 15,
   "id": "a0433b52",
   "metadata": {},
   "outputs": [
    {
     "data": {
      "text/plain": [
       "True"
      ]
     },
     "execution_count": 15,
     "metadata": {},
     "output_type": "execute_result"
    }
   ],
   "source": [
    "# check superset\n",
    "s=set([10,20,30])\n",
    "s.issuperset(set([10,30]))"
   ]
  },
  {
   "cell_type": "code",
   "execution_count": 16,
   "id": "fadee6a5",
   "metadata": {},
   "outputs": [
    {
     "data": {
      "text/plain": [
       "True"
      ]
     },
     "execution_count": 16,
     "metadata": {},
     "output_type": "execute_result"
    }
   ],
   "source": [
    "# check superset\n",
    "set([10,20,30])>=set([10,30])"
   ]
  },
  {
   "cell_type": "code",
   "execution_count": 17,
   "id": "2e3a3ef4",
   "metadata": {},
   "outputs": [
    {
     "data": {
      "text/plain": [
       "True"
      ]
     },
     "execution_count": 17,
     "metadata": {},
     "output_type": "execute_result"
    }
   ],
   "source": [
    "# check subset\n",
    "([10,20,30])<=([10,20,30,40,50,60])"
   ]
  },
  {
   "cell_type": "code",
   "execution_count": 19,
   "id": "c9600436",
   "metadata": {},
   "outputs": [
    {
     "name": "stdout",
     "output_type": "stream",
     "text": [
      "{2, 3, 4, 5}\n"
     ]
    }
   ],
   "source": [
    "# removing item\n",
    "# set have no order ie,not give index\n",
    "s=set([1,2,3,4,5])\n",
    "s.pop()\n",
    "print(s)"
   ]
  },
  {
   "cell_type": "code",
   "execution_count": 20,
   "id": "12afbdf5",
   "metadata": {},
   "outputs": [
    {
     "name": "stdout",
     "output_type": "stream",
     "text": [
      "{1, 2, 4, 5}\n"
     ]
    }
   ],
   "source": [
    "# remove one element\n",
    "s=set([1,2,3,4,5])\n",
    "s.remove(3)\n",
    "print(s)"
   ]
  },
  {
   "cell_type": "code",
   "execution_count": 21,
   "id": "6f62b1fd",
   "metadata": {},
   "outputs": [
    {
     "name": "stdout",
     "output_type": "stream",
     "text": [
      "set()\n"
     ]
    }
   ],
   "source": [
    "# to clear the set it become empty set\n",
    "s.clear()\n",
    "print(s)"
   ]
  },
  {
   "cell_type": "code",
   "execution_count": 25,
   "id": "66f44c7c",
   "metadata": {},
   "outputs": [],
   "source": [
    "# del s\n",
    "# print(s)"
   ]
  },
  {
   "cell_type": "code",
   "execution_count": 35,
   "id": "7eb68218",
   "metadata": {},
   "outputs": [
    {
     "name": "stdout",
     "output_type": "stream",
     "text": [
      "o\n",
      "y\n",
      "n\n",
      "h\n",
      "p\n",
      "t\n"
     ]
    }
   ],
   "source": [
    "# iteration over set-it is undifind which order in the \n",
    "s=set(\"python\")\n",
    "for n in s:\n",
    "    print(n)\n",
    "    \n"
   ]
  },
  {
   "cell_type": "code",
   "execution_count": 58,
   "id": "9413aa9b",
   "metadata": {},
   "outputs": [
    {
     "data": {
      "text/plain": [
       "{2, 3, 6, 8, 9}"
      ]
     },
     "execution_count": 58,
     "metadata": {},
     "output_type": "execute_result"
    }
   ],
   "source": [
    "# set operator union-merger of two sets\n",
    "s1=set([2,6,9])\n",
    "s2=set([3,6,8])\n",
    "s1.union(s2)\n",
    "s1 | s2"
   ]
  },
  {
   "cell_type": "code",
   "execution_count": 46,
   "id": "1c0aac83",
   "metadata": {},
   "outputs": [
    {
     "name": "stdout",
     "output_type": "stream",
     "text": [
      "{6}\n"
     ]
    }
   ],
   "source": [
    "# set operator intersection-is in both s1 and s2\n",
    "s1=set([4,6,9])\n",
    "s2=set([1,6,8])\n",
    "s1.intersection(s2)\n",
    "s1 & s2\n",
    "s1.intersection_update(s2)\n",
    "print(s1)"
   ]
  },
  {
   "cell_type": "code",
   "execution_count": 56,
   "id": "7303a82e",
   "metadata": {},
   "outputs": [
    {
     "name": "stdout",
     "output_type": "stream",
     "text": [
      "{1, 4, 8, 9}\n"
     ]
    }
   ],
   "source": [
    "# symmetric difference-which are in one of either set,but not in both\n",
    "s1=set([4,6,9])\n",
    "s2=set([1,6,8])\n",
    "s1.symmetric_difference(s2)\n",
    "s1 ^ s2\n",
    "s1.symmetric_difference_update(s2)\n",
    "print(s1)"
   ]
  },
  {
   "cell_type": "code",
   "execution_count": 61,
   "id": "56b7b88c",
   "metadata": {},
   "outputs": [
    {
     "name": "stdout",
     "output_type": "stream",
     "text": [
      "{9, 4}\n"
     ]
    }
   ],
   "source": [
    "# set difference-which is in the element that are in s1 but not in s2\n",
    "s1=set([4,6,9])\n",
    "s2=set([1,6,8])\n",
    "s1.difference(s2)\n",
    "s1-s2\n",
    "s1.difference_update(s2)\n",
    "print(s1)"
   ]
  },
  {
   "cell_type": "code",
   "execution_count": 62,
   "id": "90181277",
   "metadata": {},
   "outputs": [
    {
     "data": {
      "text/plain": [
       "{7, 9}"
      ]
     },
     "execution_count": 62,
     "metadata": {},
     "output_type": "execute_result"
    }
   ],
   "source": [
    "# multiple set\n",
    "s1=set([3,6,7,9])\n",
    "s2=set([6,7,9,10])\n",
    "s3=set([7,9,10,11])\n",
    "set.intersection(s1,s2,s3)"
   ]
  },
  {
   "cell_type": "code",
   "execution_count": 63,
   "id": "7635a8d1",
   "metadata": {},
   "outputs": [
    {
     "name": "stdout",
     "output_type": "stream",
     "text": [
      "{frozenset({2, 3, 4}), 4, 5, 6}\n"
     ]
    }
   ],
   "source": [
    "# Frozenset-same as set except that it is immutable once it is created,its members cannot be changed\n",
    "fs=frozenset([2,3,4])\n",
    "s1=set([fs,4,5,6])\n",
    "print(s1)"
   ]
  },
  {
   "cell_type": "code",
   "execution_count": 64,
   "id": "7a225c46",
   "metadata": {},
   "outputs": [
    {
     "data": {
      "text/plain": [
       "frozenset({4})"
      ]
     },
     "execution_count": 64,
     "metadata": {},
     "output_type": "execute_result"
    }
   ],
   "source": [
    "fs.intersection(s1)"
   ]
  },
  {
   "cell_type": "code",
   "execution_count": 66,
   "id": "df0a81e5",
   "metadata": {},
   "outputs": [],
   "source": [
    "# fs.add(6)\n",
    "# error its immmutable"
   ]
  },
  {
   "cell_type": "code",
   "execution_count": null,
   "id": "fc093212",
   "metadata": {},
   "outputs": [],
   "source": []
  }
 ],
 "metadata": {
  "kernelspec": {
   "display_name": "Python 3",
   "language": "python",
   "name": "python3"
  },
  "language_info": {
   "codemirror_mode": {
    "name": "ipython",
    "version": 3
   },
   "file_extension": ".py",
   "mimetype": "text/x-python",
   "name": "python",
   "nbconvert_exporter": "python",
   "pygments_lexer": "ipython3",
   "version": "3.8.8"
  }
 },
 "nbformat": 4,
 "nbformat_minor": 5
}
